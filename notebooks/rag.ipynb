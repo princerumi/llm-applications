{
 "cells": [
  {
   "cell_type": "markdown",
   "id": "154b2d0e-f7ce-453b-b3b7-eda0666a9795",
   "metadata": {},
   "source": [
    "# A Comprehensive Guide for Developing and Serving RAG Applications in Production (Part 1)"
   ]
  },
  {
   "cell_type": "markdown",
   "id": "de569042-32c7-4bea-a1ef-f0e41e260645",
   "metadata": {},
   "source": [
    "- **Blog post**: https://www.anyscale.com/blog\n",
    "- **GitHub repository**: https://github.com/ray-project/llm-applications\n",
    "- **Anyscale Endpoints**: https://endpoints.anyscale.com/\n",
    "- **Ray documentation**: https://docs.ray.io/"
   ]
  },
  {
   "cell_type": "markdown",
   "id": "68a962bf-4bb5-47ff-a667-89d493b1eeed",
   "metadata": {
    "tags": []
   },
   "source": [
    "In this guide, we will learn how to:\n",
    "- 💻 Develop a retrieval augmented generation (RAG) based LLM application.\n",
    "- 🚀 Scale the major components (embed, index, serve, etc.) in our application.\n",
    "- ✅ Evaluate different configurations of our application to optimize for both per-component (ex. `retrieval_score`) and overall performance (`quality_score`).\n",
    "- 🔀 Implement a hybrid routing approach that closes the gap between open-source and closed-source LLMs.\n",
    "- 📦 Serve the application in a highlight available and scalable manner."
   ]
  },
  {
   "cell_type": "markdown",
   "id": "b6b842ed-9c65-488f-a5b3-fcbced58c2c5",
   "metadata": {},
   "source": [
    "# Overview"
   ]
  },
  {
   "cell_type": "markdown",
   "id": "c09a1b69-8386-4043-846a-86b5396090af",
   "metadata": {},
   "source": [
    "\n",
    "Large language models (LLMs) have undoubtedly changed the way we interact with information. However, they come with their fair share of limitations as to what we can ask of them. For example, suppose we wanted to ask our LLM (ex. GPT-4) which two teams are going to play in the Superbowl next weekend? Because our LLMs are only aware of the information that they've been trained on, they will fall short when we require them to know information beyond that. Retrieval augmented generation (RAG) based LLM applications address this exact issue and extend the utility of LLMs and their generative reasoning abilities on our unique datasets.\n",
    "\n",
    "In this guide, we're going to build an RAG based LLM application where we will incorporate external data sources to augment our LLM’s capabilities. Specifically, we will be building an assistant that can answer questions about [Ray](https://github.com/ray-project/ray). The goal here is to make it easier for developers to adopt Ray but also, as we'll see in this guide, to help improve our Ray documentation itself and provide a foundation for other LLM applications. Our application involves many moving pieces (embedding model, context parameters, the LLM itself, etc.) and so it's important that we experiment with different configurations to optimize for the best quality responses. But it's non-trivial to evaluate and quantitatively compare different configurations for a generative task.\n",
    "\n",
    "**Note**: We'll be experimenting with different LLMs (OpenAI, Llama, etc.) in this guide. You will need [OpenAI credentials](https://platform.openai.com/account/api-keys) to access [ChatGPT models](https://platform.openai.com/docs/models/) and [Anyscale Endpoints](https://endpoints.anyscale.com/) to access OSS LLMs.\n",
    "\n",
    "<span style=\"background: yellow; color: red; font-size: 1rem;\"><b>DIAGRAM:</b></span> overall application view."
   ]
  },
  {
   "cell_type": "markdown",
   "id": "35af14d4-478a-418b-a738-b17012188779",
   "metadata": {},
   "source": [
    "## Set up"
   ]
  },
  {
   "cell_type": "markdown",
   "id": "dde6f87c-c5c2-4374-b256-f6d17205d402",
   "metadata": {},
   "source": [
    "We're going to start by setting up our base imports, directories and initializing Ray with credentials. We'll be using [Ray](https://docs.ray.io/) to easily scale our workloads with minimal changes to our code."
   ]
  },
  {
   "cell_type": "code",
   "execution_count": 1,
   "id": "b08502d8-e9a9-4a50-acd9-76f77b18ada6",
   "metadata": {
    "tags": []
   },
   "outputs": [],
   "source": [
    "import os\n",
    "import ray"
   ]
  },
  {
   "cell_type": "code",
   "execution_count": 2,
   "id": "633996c3-45b4-4ac6-961d-56b0df9156c0",
   "metadata": {
    "tags": []
   },
   "outputs": [
    {
     "data": {
      "text/plain": [
       "True"
      ]
     },
     "execution_count": 2,
     "metadata": {},
     "output_type": "execute_result"
    }
   ],
   "source": [
    "import sys; sys.path.append(\"..\")\n",
    "import warnings; warnings.filterwarnings(\"ignore\")\n",
    "from dotenv import load_dotenv; load_dotenv()"
   ]
  },
  {
   "cell_type": "code",
   "execution_count": 3,
   "id": "591d064d-e843-4b5a-bb89-0fcfb16a5045",
   "metadata": {
    "tags": []
   },
   "outputs": [],
   "source": [
    "from rag.config import ROOT_DIR"
   ]
  },
  {
   "cell_type": "markdown",
   "id": "999c0b1b-4056-4581-a05b-1d928db84511",
   "metadata": {},
   "source": [
    "We're going to start by initiailizing Ray with some required credentials for our application, such as, our [OpenAI](https://platform.openai.com/docs/models/gpt-4) (for ChatGPT models), [Anyscale Endpoints](https://endpoints.anyscale.com/) (for OSS LLMs like Llama-2) and database connection credentials."
   ]
  },
  {
   "cell_type": "code",
   "execution_count": 4,
   "id": "8f36dc38-f797-4db9-9979-2450764679aa",
   "metadata": {
    "tags": []
   },
   "outputs": [
    {
     "name": "stderr",
     "output_type": "stream",
     "text": [
      "2023-09-10 23:34:33,380\tINFO worker.py:1431 -- Connecting to existing Ray cluster at address: 10.0.7.241:6379...\n",
      "2023-09-10 23:34:33,433\tINFO worker.py:1612 -- Connected to Ray cluster. View the dashboard at \u001b[1m\u001b[32mhttps://session-yn5cwtau135l5cajlbkzrdyqqp.i.anyscaleuserdata-staging.com \u001b[39m\u001b[22m\n",
      "2023-09-10 23:34:33,513\tINFO packaging.py:518 -- Creating a file package for local directory '/home/ray/ray-assistant/notebooks/..'.\n",
      "2023-09-10 23:34:33,657\tINFO packaging.py:346 -- Pushing file package 'gcs://_ray_pkg_94378f84ca5756e8.zip' (19.15MiB) to Ray cluster...\n",
      "2023-09-10 23:34:33,711\tINFO packaging.py:359 -- Successfully pushed file package 'gcs://_ray_pkg_94378f84ca5756e8.zip'.\n"
     ]
    },
    {
     "data": {
      "application/vnd.jupyter.widget-view+json": {
       "model_id": "134d49b3642941f0b1f9e8920392c72a",
       "version_major": 2,
       "version_minor": 0
      },
      "text/html": [
       "<div class=\"lm-Widget p-Widget lm-Panel p-Panel jp-Cell-outputWrapper\">\n",
       "    <div style=\"margin-left: 50px;display: flex;flex-direction: row;align-items: center\">\n",
       "        <div class=\"jp-RenderedHTMLCommon\" style=\"display: flex; flex-direction: row;\">\n",
       "  <svg viewBox=\"0 0 567 224\" fill=\"none\" xmlns=\"http://www.w3.org/2000/svg\" style=\"height: 3em;\">\n",
       "    <g clip-path=\"url(#clip0_4338_178347)\">\n",
       "        <path d=\"M341.29 165.561H355.29L330.13 129.051C345.63 123.991 354.21 112.051 354.21 94.2307C354.21 71.3707 338.72 58.1807 311.88 58.1807H271V165.561H283.27V131.661H311.8C314.25 131.661 316.71 131.501 319.01 131.351L341.25 165.561H341.29ZM283.29 119.851V70.0007H311.82C331.3 70.0007 342.34 78.2907 342.34 94.5507C342.34 111.271 331.34 119.861 311.82 119.861L283.29 119.851ZM451.4 138.411L463.4 165.561H476.74L428.74 58.1807H416L367.83 165.561H380.83L392.83 138.411H451.4ZM446.19 126.601H398L422 72.1407L446.24 126.601H446.19ZM526.11 128.741L566.91 58.1807H554.35L519.99 114.181L485.17 58.1807H472.44L514.01 129.181V165.541H526.13V128.741H526.11Z\" fill=\"var(--jp-ui-font-color0)\"/>\n",
       "        <path d=\"M82.35 104.44C84.0187 97.8827 87.8248 92.0678 93.1671 87.9146C98.5094 83.7614 105.083 81.5067 111.85 81.5067C118.617 81.5067 125.191 83.7614 130.533 87.9146C135.875 92.0678 139.681 97.8827 141.35 104.44H163.75C164.476 101.562 165.622 98.8057 167.15 96.2605L127.45 56.5605C121.071 60.3522 113.526 61.6823 106.235 60.3005C98.9443 58.9187 92.4094 54.9203 87.8602 49.0574C83.3109 43.1946 81.0609 35.8714 81.5332 28.4656C82.0056 21.0599 85.1679 14.0819 90.4252 8.8446C95.6824 3.60726 102.672 0.471508 110.08 0.0272655C117.487 -0.416977 124.802 1.86091 130.647 6.4324C136.493 11.0039 140.467 17.5539 141.821 24.8501C143.175 32.1463 141.816 39.6859 138 46.0505L177.69 85.7505C182.31 82.9877 187.58 81.4995 192.962 81.4375C198.345 81.3755 203.648 82.742 208.33 85.3976C213.012 88.0532 216.907 91.9029 219.616 96.5544C222.326 101.206 223.753 106.492 223.753 111.875C223.753 117.258 222.326 122.545 219.616 127.197C216.907 131.848 213.012 135.698 208.33 138.353C203.648 141.009 198.345 142.375 192.962 142.313C187.58 142.251 182.31 140.763 177.69 138L138 177.7C141.808 184.071 143.155 191.614 141.79 198.91C140.424 206.205 136.44 212.75 130.585 217.313C124.731 221.875 117.412 224.141 110.004 223.683C102.596 223.226 95.6103 220.077 90.3621 214.828C85.1139 209.58 81.9647 202.595 81.5072 195.187C81.0497 187.779 83.3154 180.459 87.878 174.605C92.4405 168.751 98.9853 164.766 106.281 163.401C113.576 162.035 121.119 163.383 127.49 167.19L167.19 127.49C165.664 124.941 164.518 122.182 163.79 119.3H141.39C139.721 125.858 135.915 131.673 130.573 135.826C125.231 139.98 118.657 142.234 111.89 142.234C105.123 142.234 98.5494 139.98 93.2071 135.826C87.8648 131.673 84.0587 125.858 82.39 119.3H60C58.1878 126.495 53.8086 132.78 47.6863 136.971C41.5641 141.163 34.1211 142.972 26.7579 142.059C19.3947 141.146 12.6191 137.574 7.70605 132.014C2.79302 126.454 0.0813599 119.29 0.0813599 111.87C0.0813599 104.451 2.79302 97.2871 7.70605 91.7272C12.6191 86.1673 19.3947 82.5947 26.7579 81.6817C34.1211 80.7686 41.5641 82.5781 47.6863 86.7696C53.8086 90.9611 58.1878 97.2456 60 104.44H82.35ZM100.86 204.32C103.407 206.868 106.759 208.453 110.345 208.806C113.93 209.159 117.527 208.258 120.522 206.256C123.517 204.254 125.725 201.276 126.771 197.828C127.816 194.38 127.633 190.677 126.253 187.349C124.874 184.021 122.383 181.274 119.205 179.577C116.027 177.88 112.359 177.337 108.826 178.042C105.293 178.746 102.113 180.654 99.8291 183.44C97.5451 186.226 96.2979 189.718 96.3 193.32C96.2985 195.364 96.7006 197.388 97.4831 199.275C98.2656 201.163 99.4132 202.877 100.86 204.32ZM204.32 122.88C206.868 120.333 208.453 116.981 208.806 113.396C209.159 109.811 208.258 106.214 206.256 103.219C204.254 100.223 201.275 98.0151 197.827 96.97C194.38 95.9249 190.676 96.1077 187.348 97.4873C184.02 98.8669 181.274 101.358 179.577 104.536C177.879 107.714 177.337 111.382 178.041 114.915C178.746 118.448 180.653 121.627 183.439 123.911C186.226 126.195 189.717 127.443 193.32 127.44C195.364 127.443 197.388 127.042 199.275 126.259C201.163 125.476 202.878 124.328 204.32 122.88ZM122.88 19.4205C120.333 16.8729 116.981 15.2876 113.395 14.9347C109.81 14.5817 106.213 15.483 103.218 17.4849C100.223 19.4868 98.0146 22.4654 96.9696 25.9131C95.9245 29.3608 96.1073 33.0642 97.4869 36.3922C98.8665 39.7202 101.358 42.4668 104.535 44.1639C107.713 45.861 111.381 46.4036 114.914 45.6992C118.447 44.9949 121.627 43.0871 123.911 40.301C126.195 37.515 127.442 34.0231 127.44 30.4205C127.44 28.3772 127.038 26.3539 126.255 24.4664C125.473 22.5788 124.326 20.8642 122.88 19.4205ZM19.42 100.86C16.8725 103.408 15.2872 106.76 14.9342 110.345C14.5813 113.93 15.4826 117.527 17.4844 120.522C19.4863 123.518 22.4649 125.726 25.9127 126.771C29.3604 127.816 33.0638 127.633 36.3918 126.254C39.7198 124.874 42.4664 122.383 44.1635 119.205C45.8606 116.027 46.4032 112.359 45.6988 108.826C44.9944 105.293 43.0866 102.114 40.3006 99.8296C37.5145 97.5455 34.0227 96.2983 30.42 96.3005C26.2938 96.3018 22.337 97.9421 19.42 100.86ZM100.86 100.86C98.3125 103.408 96.7272 106.76 96.3742 110.345C96.0213 113.93 96.9226 117.527 98.9244 120.522C100.926 123.518 103.905 125.726 107.353 126.771C110.8 127.816 114.504 127.633 117.832 126.254C121.16 124.874 123.906 122.383 125.604 119.205C127.301 116.027 127.843 112.359 127.139 108.826C126.434 105.293 124.527 102.114 121.741 99.8296C118.955 97.5455 115.463 96.2983 111.86 96.3005C109.817 96.299 107.793 96.701 105.905 97.4835C104.018 98.2661 102.303 99.4136 100.86 100.86Z\" fill=\"#00AEEF\"/>\n",
       "    </g>\n",
       "    <defs>\n",
       "        <clipPath id=\"clip0_4338_178347\">\n",
       "            <rect width=\"566.93\" height=\"223.75\" fill=\"white\"/>\n",
       "        </clipPath>\n",
       "    </defs>\n",
       "  </svg>\n",
       "</div>\n",
       "\n",
       "        <table class=\"jp-RenderedHTMLCommon\" style=\"border-collapse: collapse;color: var(--jp-ui-font-color1);font-size: var(--jp-ui-font-size1);\">\n",
       "    <tr>\n",
       "        <td style=\"text-align: left\"><b>Python version:</b></td>\n",
       "        <td style=\"text-align: left\"><b>3.8.13</b></td>\n",
       "    </tr>\n",
       "    <tr>\n",
       "        <td style=\"text-align: left\"><b>Ray version:</b></td>\n",
       "        <td style=\"text-align: left\"><b>2.6.3</b></td>\n",
       "    </tr>\n",
       "    <tr>\n",
       "    <td style=\"text-align: left\"><b>Dashboard:</b></td>\n",
       "    <td style=\"text-align: left\"><b><a href=\"http://session-yn5cwtau135l5cajlbkzrdyqqp.i.anyscaleuserdata-staging.com\" target=\"_blank\">http://session-yn5cwtau135l5cajlbkzrdyqqp.i.anyscaleuserdata-staging.com</a></b></td>\n",
       "</tr>\n",
       "\n",
       "</table>\n",
       "\n",
       "    </div>\n",
       "</div>\n"
      ],
      "text/plain": [
       "RayContext(dashboard_url='session-yn5cwtau135l5cajlbkzrdyqqp.i.anyscaleuserdata-staging.com', python_version='3.8.13', ray_version='2.6.3', ray_commit='8a434b4ee7cd48e60fa1531315d39901fac5d79e', protocol_version=None)"
      ]
     },
     "execution_count": 4,
     "metadata": {},
     "output_type": "execute_result"
    }
   ],
   "source": [
    "# Credentials\n",
    "ray.init(runtime_env={\n",
    "    \"env_vars\": {\n",
    "        \"OPENAI_API_BASE\": os.environ[\"OPENAI_API_BASE\"],\n",
    "        \"OPENAI_API_KEY\": os.environ[\"OPENAI_API_KEY\"], \n",
    "        \"ANYSCALE_API_BASE\": os.environ[\"ANYSCALE_API_BASE\"],\n",
    "        \"ANYSCALE_API_KEY\": os.environ[\"ANYSCALE_API_KEY\"],\n",
    "        \"DB_CONNECTION_STRING\": os.environ[\"DB_CONNECTION_STRING\"],\n",
    "    },\n",
    "    \"working_dir\": str(ROOT_DIR),\n",
    "})"
   ]
  },
  {
   "cell_type": "markdown",
   "id": "8e3928f1-1404-430d-8633-45bb1a1c21d3",
   "metadata": {},
   "source": [
    "We've also created some mappings for the different embedding and language models we'll be developing with in our application:"
   ]
  },
  {
   "cell_type": "code",
   "execution_count": 5,
   "id": "ab69df3c-bf18-4750-a680-4e488888c5e8",
   "metadata": {
    "tags": []
   },
   "outputs": [],
   "source": [
    "from rag.config import EMBEDDING_DIMENSIONS, MAX_CONTEXT_LENGTHS"
   ]
  },
  {
   "cell_type": "code",
   "execution_count": 6,
   "id": "e8ba8f76-7ae8-49c1-8907-151b1fecbaf8",
   "metadata": {
    "tags": []
   },
   "outputs": [
    {
     "data": {
      "text/plain": [
       "{'thenlper/gte-base': 768,\n",
       " 'BAAI/bge-large-en': 1024,\n",
       " 'text-embedding-ada-002': 1536}"
      ]
     },
     "execution_count": 6,
     "metadata": {},
     "output_type": "execute_result"
    }
   ],
   "source": [
    "# Embedding dimensions\n",
    "EMBEDDING_DIMENSIONS"
   ]
  },
  {
   "cell_type": "code",
   "execution_count": 7,
   "id": "b6d340fa-4a87-4cc8-8d74-c09aafd9d18d",
   "metadata": {
    "tags": []
   },
   "outputs": [
    {
     "data": {
      "text/plain": [
       "{'gpt-4': 8192,\n",
       " 'gpt-3.5-turbo': 4096,\n",
       " 'gpt-3.5-turbo-16k': 16384,\n",
       " 'meta-llama/Llama-2-7b-chat-hf': 4096,\n",
       " 'meta-llama/Llama-2-13b-chat-hf': 4096,\n",
       " 'meta-llama/Llama-2-70b-chat-hf': 4096}"
      ]
     },
     "execution_count": 7,
     "metadata": {},
     "output_type": "execute_result"
    }
   ],
   "source": [
    "# LLM context lengths\n",
    "MAX_CONTEXT_LENGTHS"
   ]
  },
  {
   "cell_type": "markdown",
   "id": "bab7f73e-bdd1-4c87-93d0-92ece2344432",
   "metadata": {},
   "source": [
    "## Data"
   ]
  },
  {
   "cell_type": "markdown",
   "id": "4c503edd-963a-4ec3-9182-39f7afc44153",
   "metadata": {},
   "source": [
    "### Load data"
   ]
  },
  {
   "cell_type": "code",
   "execution_count": 8,
   "id": "2301b6f6-7402-4eeb-9975-7c28194b6914",
   "metadata": {
    "tags": []
   },
   "outputs": [],
   "source": [
    "from pathlib import Path\n",
    "from rag.config import EFS_DIR"
   ]
  },
  {
   "cell_type": "markdown",
   "id": "1f82562f-2b5d-4e8d-9716-b0da8670e8bf",
   "metadata": {},
   "source": [
    "We need to first download the [Ray documentation](https://docs.ray.io/) to a directory:\n",
    "```bash\n",
    "export EFS_DIR=/desired/output/directory\n",
    "wget -e robots=off --recursive --no-clobber --page-requisites \\\n",
    "  --html-extension --convert-links --restrict-file-names=windows \\\n",
    "  --domains docs.ray.io --no-parent --accept=html \\\n",
    "  -P $EFS_DIR https://docs.ray.io/en/master/\n",
    "```"
   ]
  },
  {
   "cell_type": "markdown",
   "id": "77456cf7-fe2b-4884-bfc2-99a2b4ffba1a",
   "metadata": {},
   "source": [
    "Then, we'll load the paths to our downloaded artifacts (html files) into a [Ray Dataset](https://docs.ray.io/en/latest/data/data.html) so that we can perform workloads on them at scale (ex. embed, index, etc.)"
   ]
  },
  {
   "cell_type": "code",
   "execution_count": 9,
   "id": "bba6b43b-ea82-4c21-a885-57178cec3b44",
   "metadata": {
    "tags": []
   },
   "outputs": [
    {
     "name": "stdout",
     "output_type": "stream",
     "text": [
      "3282 documents\n"
     ]
    }
   ],
   "source": [
    "# Ray dataset\n",
    "DOCS_DIR = Path(EFS_DIR, \"docs.ray.io/en/master/\")\n",
    "ds = ray.data.from_items([{\"path\": path} for path in DOCS_DIR.rglob(\"*.html\") if not path.is_dir()])\n",
    "print(f\"{ds.count()} documents\")"
   ]
  },
  {
   "cell_type": "markdown",
   "id": "ba9edff6-6dbf-4037-9675-ae05cd3eb7a7",
   "metadata": {
    "tags": []
   },
   "source": [
    "### Sections"
   ]
  },
  {
   "cell_type": "markdown",
   "id": "4f13f0dc-7f7a-4132-93e4-dc69aab164a2",
   "metadata": {},
   "source": [
    "Now that we have a dataset of all the paths to the html files, we're going to develop some functions that can appropriately extract the text from these files. We want to do this in a generalized manner so that we can perform this extraction across all of our docs pages. Therefore, we identify the sections in our html page and then extract the text in between them. We save all of this into a list of dictionaries that map the text within a section to the specific url + section anchor id.\n",
    "\n",
    "<span style=\"background: yellow; color: red; font-size: 1rem;\"><b>DIAGRAM:</b></span> Example of sectionization process."
   ]
  },
  {
   "cell_type": "code",
   "execution_count": 10,
   "id": "f72dedb6-63d1-414f-b973-6a1009fcaf74",
   "metadata": {
    "tags": []
   },
   "outputs": [],
   "source": [
    "from rag.data import extract_sections"
   ]
  },
  {
   "cell_type": "code",
   "execution_count": 11,
   "id": "2a8033de-2508-4030-a9a1-d6c792d5542a",
   "metadata": {
    "tags": []
   },
   "outputs": [
    {
     "data": {
      "text/plain": [
       "{'source': 'https://docs.ray.io/en/master/rllib/rllib-env.html#environments',\n",
       " 'text': '\\nEnvironments#\\nRLlib works with several different types of environments, including Farama-Foundation Gymnasium, user-defined, multi-agent, and also batched environments.\\nTip\\nNot all environments work with all algorithms. Check out the algorithm overview for more information.\\n'}"
      ]
     },
     "execution_count": 11,
     "metadata": {},
     "output_type": "execute_result"
    }
   ],
   "source": [
    "sample_html_fp = Path(EFS_DIR, \"docs.ray.io/en/master/rllib/rllib-env.html\")\n",
    "extract_sections({\"path\": sample_html_fp})[0]"
   ]
  },
  {
   "cell_type": "markdown",
   "id": "24f4ed64-2dd8-43c2-9831-cdf9d6d8004c",
   "metadata": {},
   "source": [
    "We can apply our extraction function to all the paths in our dataset by using [flat_map](https://docs.ray.io/en/latest/data/api/doc/ray.data.Dataset.flat_map.html). This will apply our `extract_section` function to each path in our dataset by utilizing all of our CPU workers in parallel."
   ]
  },
  {
   "cell_type": "code",
   "execution_count": 12,
   "id": "f4739d56-ddfe-42e5-9113-3d83d737999a",
   "metadata": {
    "tags": []
   },
   "outputs": [
    {
     "name": "stderr",
     "output_type": "stream",
     "text": [
      "2023-09-10 23:34:41,263\tINFO streaming_executor.py:92 -- Executing DAG InputDataBuffer[Input] -> TaskPoolMapOperator[FlatMap(extract_sections)]\n",
      "2023-09-10 23:34:41,264\tINFO streaming_executor.py:93 -- Execution config: ExecutionOptions(resource_limits=ExecutionResources(cpu=None, gpu=None, object_store_memory=None), locality_with_output=False, preserve_order=False, actor_locality_enabled=True, verbose_progress=False)\n",
      "2023-09-10 23:34:41,265\tINFO streaming_executor.py:95 -- Tip: For detailed progress reporting, run `ray.data.DataContext.get_current().execution_options.verbose_progress = True`\n"
     ]
    },
    {
     "data": {
      "application/vnd.jupyter.widget-view+json": {
       "model_id": "",
       "version_major": 2,
       "version_minor": 0
      },
      "text/plain": [
       "Running 0:   0%|          | 0/200 [00:00<?, ?it/s]"
      ]
     },
     "metadata": {},
     "output_type": "display_data"
    },
    {
     "data": {
      "text/plain": [
       "5727"
      ]
     },
     "execution_count": 12,
     "metadata": {},
     "output_type": "execute_result"
    }
   ],
   "source": [
    "# Extract sections\n",
    "sections_ds = ds.flat_map(extract_sections)\n",
    "sections_ds.count()"
   ]
  },
  {
   "cell_type": "markdown",
   "id": "2c144ef2-ffa5-49ed-9bb3-60a50223854c",
   "metadata": {},
   "source": [
    "### Chunk data"
   ]
  },
  {
   "cell_type": "markdown",
   "id": "bfa7564d-fce5-4807-8bf2-de9f93c6f994",
   "metadata": {},
   "source": [
    "We now have a list of sections (with text and source of each section) but we shouldn't directly use this as context to our RAG application just yet. The text lengths of each section are all varied and many are quite large chunks. If were to use these large sections, then we'd be inserting a lot of noisy/unwanted context and because all LLMs have a maximum context length, we wouldn't be able to fit too many relevant contexts. Therefore, we're going to split the text within each section into smaller chunks. Intuitively, smaller chunks will encapsulate single/few concepts and will be less noisy compared to larger chunks. We're going to choose some typical text splitting values (ex. `chunk_size=100`) to create our chunks for now but we'll be experiments with a range of values later.\n",
    "\n",
    "<span style=\"background: yellow; color: red; font-size: 1rem;\"><b>DIAGRAM:</b></span> Sample chunking logic in action."
   ]
  },
  {
   "cell_type": "code",
   "execution_count": 13,
   "id": "97ca89ce-97dd-4462-8dfb-e06154c56ea2",
   "metadata": {
    "tags": []
   },
   "outputs": [],
   "source": [
    "from functools import partial\n",
    "from langchain.text_splitter import RecursiveCharacterTextSplitter"
   ]
  },
  {
   "cell_type": "code",
   "execution_count": 14,
   "id": "6b6337e6-07b2-459d-a666-45de3aa945c4",
   "metadata": {
    "tags": []
   },
   "outputs": [],
   "source": [
    "# Text splitter\n",
    "chunk_size = 300\n",
    "chunk_overlap = 50\n",
    "text_splitter = RecursiveCharacterTextSplitter(\n",
    "    separators=[\"\\n\\n\", \"\\n\", \" \", \"\"],\n",
    "    chunk_size=chunk_size,\n",
    "    chunk_overlap=chunk_overlap,\n",
    "    length_function=len)"
   ]
  },
  {
   "cell_type": "code",
   "execution_count": 15,
   "id": "ca5208da-7196-49b5-9943-c0c9f0ab13b5",
   "metadata": {
    "tags": []
   },
   "outputs": [
    {
     "name": "stderr",
     "output_type": "stream",
     "text": [
      "2023-09-10 23:34:59,499\tINFO dataset.py:2180 -- Tip: Use `take_batch()` instead of `take() / show()` to return records in pandas or numpy batch format.\n"
     ]
    },
    {
     "name": "stdout",
     "output_type": "stream",
     "text": [
      "page_content='ray.tune.TuneConfig.search_alg#\\nTuneConfig.search_alg: Optional[Union[ray.tune.search.searcher.Searcher, ray.tune.search.search_algorithm.SearchAlgorithm]] = None#' metadata={'source': 'https://docs.ray.io/en/master/tune/api/doc/ray.tune.TuneConfig.search_alg.html#ray-tune-tuneconfig-search-alg'}\n"
     ]
    }
   ],
   "source": [
    "# Chunk a sample section\n",
    "sample_section = sections_ds.take(1)[0]\n",
    "chunks = text_splitter.create_documents(\n",
    "    texts=[sample_section[\"text\"]], \n",
    "    metadatas=[{\"source\": sample_section[\"source\"]}])\n",
    "print (chunks[0])"
   ]
  },
  {
   "cell_type": "code",
   "execution_count": 16,
   "id": "5c15a38d-066b-4623-8448-fdd0ac5ddf4d",
   "metadata": {
    "tags": []
   },
   "outputs": [],
   "source": [
    "def chunk_section(section, chunk_size, chunk_overlap):\n",
    "    text_splitter = RecursiveCharacterTextSplitter(\n",
    "        separators=[\"\\n\\n\", \"\\n\", \" \", \"\"],\n",
    "        chunk_size=chunk_size,\n",
    "        chunk_overlap=chunk_overlap,\n",
    "        length_function=len)\n",
    "    chunks = text_splitter.create_documents(\n",
    "        texts=[section[\"text\"]], \n",
    "        metadatas=[{\"source\": section[\"source\"]}])\n",
    "    return [{\"text\": chunk.page_content, \"source\": chunk.metadata[\"source\"]} for chunk in chunks]"
   ]
  },
  {
   "cell_type": "code",
   "execution_count": 17,
   "id": "5be23c62-3108-49be-994d-5aa033162c71",
   "metadata": {
    "tags": []
   },
   "outputs": [
    {
     "name": "stderr",
     "output_type": "stream",
     "text": [
      "2023-09-10 23:34:59,521\tINFO streaming_executor.py:92 -- Executing DAG InputDataBuffer[Input] -> TaskPoolMapOperator[FlatMap(extract_sections)->FlatMap(partial)]\n",
      "2023-09-10 23:34:59,522\tINFO streaming_executor.py:93 -- Execution config: ExecutionOptions(resource_limits=ExecutionResources(cpu=None, gpu=None, object_store_memory=None), locality_with_output=False, preserve_order=False, actor_locality_enabled=True, verbose_progress=False)\n",
      "2023-09-10 23:34:59,523\tINFO streaming_executor.py:95 -- Tip: For detailed progress reporting, run `ray.data.DataContext.get_current().execution_options.verbose_progress = True`\n"
     ]
    },
    {
     "data": {
      "application/vnd.jupyter.widget-view+json": {
       "model_id": "",
       "version_major": 2,
       "version_minor": 0
      },
      "text/plain": [
       "Running 0:   0%|          | 0/200 [00:00<?, ?it/s]"
      ]
     },
     "metadata": {},
     "output_type": "display_data"
    },
    {
     "name": "stderr",
     "output_type": "stream",
     "text": [
      "2023-09-10 23:35:14,688\tWARNING plan.py:567 -- Warning: The Ray cluster currently does not have any available CPUs. The Dataset job will hang unless more CPUs are freed up. A common reason is that cluster resources are used by Actors or Tune trials; see the following link for more details: https://docs.ray.io/en/master/data/dataset-internals.html#datasets-and-tune\n"
     ]
    },
    {
     "name": "stdout",
     "output_type": "stream",
     "text": [
      "32276 chunks\n",
      "{'text': 'ray.tune.search.basic_variant.BasicVariantGenerator.set_search_properties#\\nBasicVariantGenerator.set_search_properties(metric: Optional[str], mode: Optional[str], config: Dict, **spec) → bool#\\nPass search properties to search algorithm.', 'source': 'https://docs.ray.io/en/master/tune/api/doc/ray.tune.search.basic_variant.BasicVariantGenerator.set_search_properties.html#ray-tune-search-basic-variant-basicvariantgenerator-set-search-properties'}\n"
     ]
    }
   ],
   "source": [
    "# Scale chunking\n",
    "chunks_ds = sections_ds.flat_map(partial(\n",
    "    chunk_section, \n",
    "    chunk_size=chunk_size, \n",
    "    chunk_overlap=chunk_overlap))\n",
    "print(f\"{chunks_ds.count()} chunks\")\n",
    "chunks_ds.show(1)"
   ]
  },
  {
   "cell_type": "markdown",
   "id": "d9c23b31-e7b3-4078-abf7-683f448f5b19",
   "metadata": {},
   "source": [
    "### Embed data"
   ]
  },
  {
   "cell_type": "markdown",
   "id": "fb44e2b4-d48a-4f27-b9e4-99579917b18e",
   "metadata": {},
   "source": [
    "Now that we've created small chunks from our dataset, we need a way to identify the most relevant ones to a given query. A very effective and quick method is to embed our data using a pretrained model and use the same model to embed the query. We can then compute the distance between all of the chunk embeddings and our query embedding to determine the top k chunks. There are many different pretrained models to choose from to embed our data but the most popular ones can be discovered through [HuggingFace's Massive Text Embedding Benchmark (MTEB)](https://huggingface.co/spaces/mteb/leaderboard) leadboard. These models were pretrained on very large text corpus through tasks such as next/masked token prediction that allows them to learn to represent subtokens in N dimensions and capture semantic relationships. We can leverage this to represent our data and make decisions such as the most relevant contexts to use to answer a given query. We're using Langchain's Embedding wrappers ([HuggingFaceEmbeddings](https://api.python.langchain.com/en/latest/embeddings/langchain.embeddings.huggingface.HuggingFaceEmbeddings.html) and [OpenAIEmbeddings](https://api.python.langchain.com/en/latest/embeddings/langchain.embeddings.openai.OpenAIEmbeddings.html)) to easily load the models and embed our document chunks.\n",
    "\n",
    "**Note**: embeddings aren't the only way to determine the more relevant chunks. We could also use an LLM to decide! However, because LLMs are much larger than these embedding models and have maximum context lengths, it's better to use embeddings to retrieve the top k chunks. And then we could use LLMs on the fewer k chunks to determine the <k chunks to use as the context to answer our query. We could also use reranking (ex. [Cohere Rerank](https://txt.cohere.com/rerank/)) to further identify the most relevant chunks to use.\n",
    "\n",
    "<span style=\"background: yellow; color: red; font-size: 1rem;\"><b>DIAGRAM:</b></span> Represent a text chunk getting embedded."
   ]
  },
  {
   "cell_type": "code",
   "execution_count": 18,
   "id": "712fe08b-fd19-4cb8-94d9-a7570b2dc09d",
   "metadata": {
    "tags": []
   },
   "outputs": [],
   "source": [
    "from langchain.embeddings import OpenAIEmbeddings\n",
    "from langchain.embeddings.huggingface import HuggingFaceEmbeddings\n",
    "import numpy as np\n",
    "from ray.data import ActorPoolStrategy"
   ]
  },
  {
   "cell_type": "code",
   "execution_count": 19,
   "id": "83b6a5a3-cd2d-4987-838a-be13e9553080",
   "metadata": {
    "tags": []
   },
   "outputs": [],
   "source": [
    "class EmbedChunks:\n",
    "    def __init__(self, model_name):\n",
    "        if model_name == \"text-embedding-ada-002\":\n",
    "            self.embedding_model = OpenAIEmbeddings(\n",
    "                model=model_name,\n",
    "                openai_api_base=os.environ[\"OPENAI_API_BASE\"],\n",
    "                openai_api_key=os.environ[\"OPENAI_API_KEY\"])\n",
    "        else:\n",
    "            self.embedding_model = HuggingFaceEmbeddings(\n",
    "                model_name=model_name,\n",
    "                model_kwargs={\"device\": \"cuda\"},\n",
    "                encode_kwargs={\"device\": \"cuda\", \"batch_size\": 100})\n",
    "    \n",
    "    def __call__(self, batch):\n",
    "        embeddings = self.embedding_model.embed_documents(batch[\"text\"])\n",
    "        return {\"text\": batch[\"text\"], \"source\": batch[\"source\"], \"embeddings\": embeddings}"
   ]
  },
  {
   "cell_type": "markdown",
   "id": "1e39c99a-5f33-4052-ba0e-cbc69d104ec1",
   "metadata": {},
   "source": [
    "Here we're able to embed our chunks at scale by using [map_batches](https://docs.ray.io/en/latest/data/api/doc/ray.data.Dataset.map_batches.html). All we had to do was define the `batch_size` and the compute to use (we're using two workers, each with 1 GPU)."
   ]
  },
  {
   "cell_type": "code",
   "execution_count": 20,
   "id": "9715a01e-dc67-4342-a0cb-30e770852097",
   "metadata": {
    "tags": []
   },
   "outputs": [],
   "source": [
    "# Embed chunks\n",
    "embedding_model_name = \"thenlper/gte-base\"\n",
    "embedded_chunks = chunks_ds.map_batches(\n",
    "    EmbedChunks,\n",
    "    fn_constructor_kwargs={\"model_name\": embedding_model_name},\n",
    "    batch_size=100, \n",
    "    num_gpus=1,\n",
    "    compute=ActorPoolStrategy(size=2))"
   ]
  },
  {
   "cell_type": "code",
   "execution_count": null,
   "id": "67dffa1f-19a3-4411-af3f-b161a47ee164",
   "metadata": {
    "tags": []
   },
   "outputs": [],
   "source": [
    "# Sample\n",
    "sample = embedded_chunks.take(1)\n",
    "print (\"embedding size:\", len(sample[0][\"embeddings\"]))\n",
    "print (sample[0][\"text\"])"
   ]
  },
  {
   "cell_type": "markdown",
   "id": "09187588-e1dc-44c5-b88b-cc8ebe3f9c48",
   "metadata": {},
   "source": [
    "### Index data"
   ]
  },
  {
   "cell_type": "markdown",
   "id": "eb9f53f1-2720-4a47-8b2f-1b206c38c425",
   "metadata": {},
   "source": [
    "Now that we have our embedded chunks, we need to index (store) them somewhere so that we can retrieve them quickly for inference. While there are many popular vector database options, we're going to use [Postgres](https://www.postgresql.org/) for it's simplificty and performance. We'll create a table (`document`) and write the (`text`, `source`, `embedding`) triplets for each embedded chunk we have.\n",
    "\n",
    "<span style=\"background: yellow; color: red; font-size: 1rem;\"><b>DIAGRAM:</b></span> Show a triplet getting indexed in a vector DB."
   ]
  },
  {
   "cell_type": "code",
   "execution_count": 21,
   "id": "bb6bf17c-da04-4bd8-af2f-dc79e4e27913",
   "metadata": {
    "tags": []
   },
   "outputs": [],
   "source": [
    "import psycopg\n",
    "from pgvector.psycopg import register_vector"
   ]
  },
  {
   "cell_type": "code",
   "execution_count": null,
   "id": "c7ae20ca-1371-48d6-bc84-6d11a425c3f5",
   "metadata": {
    "tags": []
   },
   "outputs": [],
   "source": [
    "%%bash\n",
    "# Set up pgvector\n",
    "bash ../setup-pgvector.sh"
   ]
  },
  {
   "cell_type": "code",
   "execution_count": null,
   "id": "806b47aa-f3c1-44d3-b041-a3a4f0867653",
   "metadata": {
    "tags": []
   },
   "outputs": [],
   "source": [
    "%%bash\n",
    "# Drop table and load index\n",
    "psql \"$DB_CONNECTION_STRING\" -c \"DROP TABLE IF EXISTS document;\"\n",
    "sudo -u postgres psql -f ../migrations/vector-768.sql  # \"thenlper/gte-base\" dimension is 768\n",
    "export SQL_DUMP_FP=\"/efs/shared_storage/goku/sql_dumps/gte-base_300_50.sql\"\n",
    "psql \"$DB_CONNECTION_STRING\" -f $SQL_DUMP_FP  # load\n",
    "psql \"$DB_CONNECTION_STRING\" -c \"SELECT count(*) FROM document;\"  # num rows"
   ]
  },
  {
   "cell_type": "markdown",
   "id": "3fe36601-1269-482b-9bac-b52b32fb338e",
   "metadata": {},
   "source": [
    "If we don't have an index saved already, we can index the data and save it:"
   ]
  },
  {
   "cell_type": "code",
   "execution_count": 22,
   "id": "21480e47-4a17-49d8-b4e7-c301e8040a69",
   "metadata": {
    "tags": []
   },
   "outputs": [],
   "source": [
    "class StoreResults:\n",
    "    def __call__(self, batch):\n",
    "        with psycopg.connect(os.environ[\"DB_CONNECTION_STRING\"]) as conn:\n",
    "            register_vector(conn)\n",
    "            with conn.cursor() as cur:\n",
    "                for text, source, embedding in zip(batch[\"text\"], batch[\"source\"], batch[\"embeddings\"]):\n",
    "                    cur.execute(\"INSERT INTO document (text, source, embedding) VALUES (%s, %s, %s)\", (text, source, embedding,),)\n",
    "        return {}"
   ]
  },
  {
   "cell_type": "code",
   "execution_count": 26,
   "id": "9c4582d9-40ba-4a94-81ac-259b3851f837",
   "metadata": {
    "tags": []
   },
   "outputs": [
    {
     "name": "stderr",
     "output_type": "stream",
     "text": [
      "2023-09-07 13:54:40,013\tINFO streaming_executor.py:92 -- Executing DAG InputDataBuffer[Input] -> ActorPoolMapOperator[MapBatches(EmbedChunks)] -> ActorPoolMapOperator[MapBatches(StoreResults)]\n",
      "2023-09-07 13:54:40,014\tINFO streaming_executor.py:93 -- Execution config: ExecutionOptions(resource_limits=ExecutionResources(cpu=None, gpu=None, object_store_memory=None), locality_with_output=False, preserve_order=False, actor_locality_enabled=True, verbose_progress=False)\n",
      "2023-09-07 13:54:40,015\tINFO streaming_executor.py:95 -- Tip: For detailed progress reporting, run `ray.data.DataContext.get_current().execution_options.verbose_progress = True`\n",
      "2023-09-07 13:54:40,041\tINFO actor_pool_map_operator.py:117 -- MapBatches(EmbedChunks): Waiting for 2 pool actors to start...\n",
      "2023-09-07 13:54:58,943\tINFO actor_pool_map_operator.py:117 -- MapBatches(StoreResults): Waiting for 28 pool actors to start...\n"
     ]
    },
    {
     "data": {
      "application/vnd.jupyter.widget-view+json": {
       "model_id": "",
       "version_major": 2,
       "version_minor": 0
      },
      "text/plain": [
       "Running 0:   0%|          | 0/200 [00:00<?, ?it/s]"
      ]
     },
     "metadata": {},
     "output_type": "display_data"
    },
    {
     "name": "stderr",
     "output_type": "stream",
     "text": [
      "2023-09-07 13:59:39,909\tWARNING actor_pool_map_operator.py:267 -- To ensure full parallelization across an actor pool of size 28, the specified batch size should be at most 0. Your configured batch size for this operator was 128.\n"
     ]
    },
    {
     "data": {
      "text/plain": [
       "0"
      ]
     },
     "execution_count": 26,
     "metadata": {},
     "output_type": "execute_result"
    }
   ],
   "source": [
    "# Index data\n",
    "embedded_chunks.map_batches(\n",
    "    StoreResults,\n",
    "    batch_size=128,\n",
    "    num_cpus=1,\n",
    "    compute=ActorPoolStrategy(size=28),\n",
    ").count()"
   ]
  },
  {
   "cell_type": "code",
   "execution_count": 24,
   "id": "40925cd6-41e8-4651-9692-aeb399b68af6",
   "metadata": {
    "tags": []
   },
   "outputs": [],
   "source": [
    "%%bash\n",
    "# Save index\n",
    "export SQL_DUMP_FP=\"/efs/shared_storage/goku/sql_dumps/gte-base_300_50.sql\"\n",
    "mkdir -p $(dirname \"$SQL_DUMP_FP\") && touch $SQL_DUMP_FP\n",
    "sudo -u postgres pg_dump -c > $SQL_DUMP_FP  # save"
   ]
  },
  {
   "cell_type": "markdown",
   "id": "318798c3-d119-4eb5-ad81-b2834516151a",
   "metadata": {},
   "source": [
    "## Retrieval"
   ]
  },
  {
   "cell_type": "markdown",
   "id": "974cc146-c337-4478-a119-5daadedd340c",
   "metadata": {},
   "source": [
    "With our embedded chunks properly indexed in our vector database, we're ready to perform retrieval for a given query. We'll start by using the same embedding model we used to embed our text chunks to now embed the incoming query.\n",
    "\n",
    "<span style=\"background: yellow; color: red; font-size: 1rem;\"><b>DIAGRAM:</b></span> Show the query getting embedded and show the retrieval process."
   ]
  },
  {
   "cell_type": "code",
   "execution_count": 23,
   "id": "480d4c49-5870-471e-a617-86f7d3fa13d0",
   "metadata": {
    "tags": []
   },
   "outputs": [],
   "source": [
    "import json\n",
    "import numpy as np"
   ]
  },
  {
   "cell_type": "code",
   "execution_count": 24,
   "id": "39c3f410-89a2-4992-8cd1-63aca5bf9936",
   "metadata": {
    "tags": []
   },
   "outputs": [
    {
     "data": {
      "text/plain": [
       "768"
      ]
     },
     "execution_count": 24,
     "metadata": {},
     "output_type": "execute_result"
    }
   ],
   "source": [
    "# Embed query\n",
    "embedding_model = HuggingFaceEmbeddings(model_name=embedding_model_name)\n",
    "query = \"What is the default batch size for map_batches?\"\n",
    "embedding = np.array(embedding_model.embed_query(query))\n",
    "len(embedding)"
   ]
  },
  {
   "cell_type": "markdown",
   "id": "cd3d604e-437c-4917-9503-cdc6a74df982",
   "metadata": {},
   "source": [
    "Then, we'll retrieve the top most revelant chunks by extracting the closest embedded chunks to our embedded query. We use cosine distance (`<=>`) but there are [many options](https://github.com/pgvector/pgvector#vector-operators) to choose from. Once we retrieve the top `num_chunks`, we can collect the text for each chunk and use it as context to generate a response."
   ]
  },
  {
   "cell_type": "code",
   "execution_count": 25,
   "id": "073a796f-e0e7-46d3-8151-01f47befec4c",
   "metadata": {
    "tags": []
   },
   "outputs": [],
   "source": [
    "# Get context\n",
    "num_chunks = 5\n",
    "with psycopg.connect(os.environ[\"DB_CONNECTION_STRING\"]) as conn:\n",
    "    register_vector(conn)\n",
    "    with conn.cursor() as cur:\n",
    "        cur.execute(\"SELECT * FROM document ORDER BY embedding <=> %s LIMIT %s\", (embedding, num_chunks))\n",
    "        rows = cur.fetchall()\n",
    "        context = [{\"text\": row[1]} for row in rows]\n",
    "        sources = [row[2] for row in rows]"
   ]
  },
  {
   "cell_type": "code",
   "execution_count": 26,
   "id": "b0197e98-5fee-4be0-bdf5-2d975216aa4b",
   "metadata": {
    "tags": []
   },
   "outputs": [
    {
     "name": "stdout",
     "output_type": "stream",
     "text": [
      "https://docs.ray.io/en/master/data/api/doc/ray.data.Dataset.map_batches.html#ray-data-dataset-map-batches\n",
      "to a given map task. Default batch_size is 4096 with “default”.\n",
      "compute – Either “tasks” (default) to use Ray Tasks or an\n",
      "ActorPoolStrategy to use an autoscaling actor pool.\n",
      "batch_format – If \"default\" or \"numpy\", batches are\n",
      "Dict[str, numpy.ndarray]. If \"pandas\", batches are\n",
      "pandas.DataFrame.\n",
      "zero_copy_batch – Whether fn should be provided zero-copy, read-only\n",
      "batches. If this is True and no copy is required for the\n",
      "batch_format conversion, the batch is a zero-copy, read-only\n",
      "\n",
      "https://docs.ray.io/en/master/data/transforming-data.html#configuring-batch-size\n",
      "Configuring batch size#\n",
      "Increasing batch_size improves the performance of vectorized transformations like\n",
      "NumPy functions and model inference. However, if your batch size is too large, your\n",
      "program might run out of memory. If you encounter an out-of-memory error, decrease your\n",
      "batch_size.\n",
      "Note\n",
      "The default batch size depends on your resource type. If you’re using CPUs,\n",
      "the default batch size is 4096. If you’re using GPUs, you must specify an explicit\n",
      "batch size.\n",
      "\n",
      "https://docs.ray.io/en/master/data/data-internals.html#execution-memory\n",
      "Large block size can lead to potential out-of-memory situations. To avoid these issues, make sure no single item in your Ray Data is too large, and always call ds.map_batches() with batch size small enough such that the output batch can comfortably fit into memory.\n",
      "\n",
      "https://docs.ray.io/en/master/serve/advanced-guides/dyn-req-batch.html#tips-for-fine-tuning-batching-parameters\n",
      "Tips for fine-tuning batching parameters#\n",
      "max_batch_size ideally should be a power of 2 (2, 4, 8, 16, …) because CPUs and GPUs are both optimized for data of these shapes. Large batch sizes incur a high memory cost as well as latency penalty for the first few requests.\n",
      "\n",
      "https://docs.ray.io/en/master/data/examples/pytorch_resnet_batch_prediction.html#model-inference\n",
      "The first parameter of map_batches is the user-defined function (UDF), which can either be a function or a class. Since we are using a class in this case, the UDF will run as long-running Ray actors. For class-based UDFs, we use the compute argument to specify ActorPoolStrategy with the number of parallel actors.\n",
      "The batch_size argument indicates the number of images in each batch. See the Ray dashboard\n",
      "\n"
     ]
    }
   ],
   "source": [
    "for i, item in enumerate(context):\n",
    "    print (sources[i])\n",
    "    print (item[\"text\"])\n",
    "    print ()"
   ]
  },
  {
   "cell_type": "markdown",
   "id": "f5738d23-91e3-4016-826e-716872f76b62",
   "metadata": {
    "tags": []
   },
   "source": [
    "## Generation"
   ]
  },
  {
   "cell_type": "markdown",
   "id": "0bec2b7c-35be-40d1-9e12-29d7d6178d4d",
   "metadata": {},
   "source": [
    "We can now use the context to generate a response from our LLM. Without this relevant context that we retreived, the LLM may not have been able to accurately answer our question. And as our data grows, we can just as easily embed and index any new data and be able to retrieve it to answer questions.\n",
    "\n",
    "<span style=\"background: yellow; color: red; font-size: 1rem;\"><b>DIAGRAM:</b></span> Show how retrieved context + query texts are fed into API."
   ]
  },
  {
   "cell_type": "code",
   "execution_count": 27,
   "id": "b55cc1d7-e110-4d9d-abc4-36576db25f92",
   "metadata": {
    "tags": []
   },
   "outputs": [],
   "source": [
    "import openai\n",
    "import time"
   ]
  },
  {
   "cell_type": "code",
   "execution_count": 28,
   "id": "6510f9dc-5870-4c9a-8ea0-7661d1914f8a",
   "metadata": {
    "tags": []
   },
   "outputs": [],
   "source": [
    "from rag.generate import prepare_response\n",
    "from rag.utils import get_credentials"
   ]
  },
  {
   "cell_type": "code",
   "execution_count": 29,
   "id": "697e65e8-4d69-4870-9f09-0e128008b94e",
   "metadata": {
    "tags": []
   },
   "outputs": [],
   "source": [
    "def generate_response(\n",
    "    llm, temperature=0.0, stream=True,\n",
    "    system_content=\"\", assistant_content=\"\", user_content=\"\", \n",
    "    max_retries=3, retry_interval=60):\n",
    "    \"\"\"Generate response from an LLM.\"\"\"\n",
    "    retry_count = 0\n",
    "    api_base, api_key = get_credentials(llm=llm)\n",
    "    while retry_count < max_retries:\n",
    "        try:\n",
    "            response = openai.ChatCompletion.create(\n",
    "                model=llm,\n",
    "                temperature=temperature,\n",
    "                stream=stream,\n",
    "                api_base=api_base,\n",
    "                api_key=api_key,\n",
    "                messages=[\n",
    "                    {\"role\": \"system\", \"content\": system_content},\n",
    "                    {\"role\": \"assistant\", \"content\": assistant_content},\n",
    "                    {\"role\": \"user\", \"content\": user_content},\n",
    "                ],\n",
    "            )\n",
    "            return prepare_response(response=response, stream=stream)\n",
    "\n",
    "        except Exception as e:\n",
    "            print(f\"Exception: {e}\")\n",
    "            time.sleep(retry_interval)  # default is per-minute rate limits\n",
    "            retry_count += 1\n",
    "    return \"\""
   ]
  },
  {
   "cell_type": "code",
   "execution_count": 30,
   "id": "9de3685b-6839-445f-9baa-68a5e863562a",
   "metadata": {
    "tags": []
   },
   "outputs": [
    {
     "name": "stdout",
     "output_type": "stream",
     "text": [
      "The default batch size for map_batches is 4096."
     ]
    }
   ],
   "source": [
    "# Generate response\n",
    "query = \"What is the default batch size for map_batches?\"\n",
    "response = generate_response(\n",
    "    llm=\"meta-llama/Llama-2-70b-chat-hf\",\n",
    "    temperature=0.0,\n",
    "    stream=True,\n",
    "    system_content=\"Answer the query using the context provided. Be succinct.\",\n",
    "    user_content=f\"query: {query}, context: {context}\")"
   ]
  },
  {
   "cell_type": "markdown",
   "id": "77e0511e-d79c-4d54-a50f-163c11fc8643",
   "metadata": {},
   "source": [
    "### Agent"
   ]
  },
  {
   "cell_type": "markdown",
   "id": "bad51191-19d1-40d5-bbc8-72245fafd154",
   "metadata": {},
   "source": [
    "Let's combine the context retrieval and response generation together into a conventient query agent that we can use to easily generate our responses."
   ]
  },
  {
   "cell_type": "code",
   "execution_count": 31,
   "id": "dc002554-a525-48e0-8389-e60594d29221",
   "metadata": {
    "tags": []
   },
   "outputs": [],
   "source": [
    "from rag.embed import get_embedding_model\n",
    "from rag.generate import get_sources_and_context"
   ]
  },
  {
   "cell_type": "code",
   "execution_count": 32,
   "id": "ffcc892a-ceee-487a-aecf-db116f53e89f",
   "metadata": {
    "tags": []
   },
   "outputs": [],
   "source": [
    "class QueryAgent:\n",
    "    def __init__(self, embedding_model_name=\"thenlper/gte-base\",\n",
    "                 llm=\"meta-llama/Llama-2-70b-chat-hf\", temperature=0.0, \n",
    "                 max_context_length=4096, system_content=\"\", assistant_content=\"\"):\n",
    "        \n",
    "        # Embedding model\n",
    "        self.embedding_model = get_embedding_model(\n",
    "            embedding_model_name=embedding_model_name, \n",
    "            model_kwargs={\"device\": \"cuda\"}, \n",
    "            encode_kwargs={\"device\": \"cuda\", \"batch_size\": 100})\n",
    "        \n",
    "        # LLM\n",
    "        self.llm = llm\n",
    "        self.temperature = temperature\n",
    "        self.context_length = max_context_length - len(system_content + assistant_content)\n",
    "        self.system_content = system_content\n",
    "        self.assistant_content = assistant_content\n",
    "\n",
    "    def __call__(self, query, num_chunks=5, stream=True):\n",
    "        # Get sources and context\n",
    "        sources, context = get_sources_and_context(\n",
    "            query=query,\n",
    "            embedding_model=self.embedding_model,\n",
    "            num_chunks=num_chunks)\n",
    "            \n",
    "        # Generate response\n",
    "        user_content = f\"query: {query}, context: {context}\"\n",
    "        answer = generate_response(\n",
    "            llm=self.llm,\n",
    "            temperature=self.temperature,\n",
    "            stream=stream,\n",
    "            system_content=self.system_content,\n",
    "            assistant_content=self.assistant_content,\n",
    "            user_content=user_content[: self.context_length])\n",
    "\n",
    "        # Result\n",
    "        result = {\n",
    "            \"question\": query,\n",
    "            \"sources\": sources,\n",
    "            \"answer\": answer,\n",
    "            \"llm\": self.llm,\n",
    "        }\n",
    "        return result"
   ]
  },
  {
   "cell_type": "code",
   "execution_count": 33,
   "id": "e6e0125b-cc86-4811-aded-e77b661e068a",
   "metadata": {
    "tags": []
   },
   "outputs": [],
   "source": [
    "embedding_model_name=\"thenlper/gte-base\"\n",
    "llm=\"meta-llama/Llama-2-7b-chat-hf\""
   ]
  },
  {
   "cell_type": "code",
   "execution_count": 34,
   "id": "ad3b1224-922b-40b5-9979-9075c6ef100e",
   "metadata": {
    "tags": []
   },
   "outputs": [
    {
     "name": "stdout",
     "output_type": "stream",
     "text": [
      "The default batch size for `map_batches` is 4096\n",
      "\n",
      " {\n",
      "  \"question\": \"What is the default batch size for map_batches?\",\n",
      "  \"sources\": [\n",
      "    \"https://docs.ray.io/en/master/data/api/doc/ray.data.Dataset.map_batches.html#ray-data-dataset-map-batches\",\n",
      "    \"https://docs.ray.io/en/master/data/transforming-data.html#configuring-batch-size\",\n",
      "    \"https://docs.ray.io/en/master/data/data-internals.html#execution-memory\",\n",
      "    \"https://docs.ray.io/en/master/serve/advanced-guides/dyn-req-batch.html#tips-for-fine-tuning-batching-parameters\",\n",
      "    \"https://docs.ray.io/en/master/data/examples/pytorch_resnet_batch_prediction.html#model-inference\"\n",
      "  ],\n",
      "  \"answer\": \"The default batch size for `map_batches` is 4096\",\n",
      "  \"llm\": \"meta-llama/Llama-2-7b-chat-hf\"\n",
      "}\n"
     ]
    }
   ],
   "source": [
    "query = \"What is the default batch size for map_batches?\"\n",
    "system_content = \"Answer the query using the context provided. Be succinct.\"\n",
    "agent = QueryAgent(\n",
    "    embedding_model_name=embedding_model_name,\n",
    "    llm=llm,\n",
    "    max_context_length=MAX_CONTEXT_LENGTHS[llm],\n",
    "    system_content=system_content)\n",
    "result = agent(query=query)\n",
    "print(\"\\n\\n\", json.dumps(result, indent=2))"
   ]
  },
  {
   "cell_type": "markdown",
   "id": "34feb8ca-5e72-4b12-8ab3-55ca5af05109",
   "metadata": {},
   "source": [
    "# Evaluation"
   ]
  },
  {
   "cell_type": "markdown",
   "id": "6676dbb2-a143-463c-8de2-9a2763e12059",
   "metadata": {},
   "source": [
    "So far, we've chosen typical/arbitrary values for the various parts of our RAG application. But if we were to change something, such as our chunking logic, embedding model, LLM, etc. how can we know that we have a better configuration than before. A generative task like this is very difficult to quantitatively assess and so we need to develop creative ways to do so. \n",
    "\n",
    "Because we have many moving parts in our application, we need to perform unit/component and end-to-end evaluation. Component-wise evaluation can involve evaluating our retrieval in isolation (is the best source in our set of retrieved chunks) and evaluating our LLMs response (given the best source, is the LLM able to produce a quality answer). As for end-to-end evaluation, we can assess the quality of the entire system (given all data, what is the quality of the response). \n",
    "\n",
    "We'll be asking our evaluator LLM to score the response between 1-5 using the context, however, we could also have it produce scores for other dimensions such as hallucination (is the generated answer using information only from the provided context), toxticity, etc.\n",
    "\n",
    "<span style=\"background: yellow; color: red; font-size: 1rem;\"><b>DIAGRAM:</b></span> Component and end-to-end evaluation."
   ]
  },
  {
   "cell_type": "code",
   "execution_count": 35,
   "id": "7c6f7b9e-4b77-4b0c-8660-ba8047356415",
   "metadata": {
    "tags": []
   },
   "outputs": [],
   "source": [
    "# If running tests / small samples, set num_samples to <10\n",
    "EXPERIMENTS_DIR = Path(ROOT_DIR, \"experiments\")\n",
    "NUM_SAMPLES = None  # None = all samples"
   ]
  },
  {
   "cell_type": "markdown",
   "id": "4fa7a068-fc77-4928-bf58-52321616f9d5",
   "metadata": {},
   "source": [
    "## Evaluator"
   ]
  },
  {
   "cell_type": "markdown",
   "id": "0a19d3e8-b7e8-4d69-aa70-118af1fb1708",
   "metadata": {},
   "source": [
    "We're going to start by determining our evaluator. Given a response to a query and relevant context, our evaluator should be a trusted way to score/assess the quality of the response. But before we can determine our evaluator, we need a dataset of questions and the source where the answer comes from. We can use this dataset to ask our different evaluators to provide an answer and then rate their answer (ex. score between 1-5). We can then inspect this dataset to determine if our evaluator is unbiased and has sound reasoning for the scores that are assigned.\n",
    "\n",
    "<span style=\"background: yellow; color: red; font-size: 1rem;\"><b>DIAGRAM:</b></span> Show the process of evaluator answers the question (given dataset of questions + best source) and how we inspect the results to determine the evaluator."
   ]
  },
  {
   "cell_type": "markdown",
   "id": "03acb7e0-7bcb-4e2f-8552-5fe182a278db",
   "metadata": {},
   "source": [
    "We'll start by manually creating our dataset. We have a list of user queries and the ideal source to answer the query [`datasets/eval-dataset-v1.jsonl`](https://github.com/ray-project/llm-applications/blob/main/datasets/eval-dataset-v1.jsonl). We will our LLM app above to generate reference answer for each query/source pair using `gpt-4`."
   ]
  },
  {
   "cell_type": "code",
   "execution_count": 36,
   "id": "fa6cab00-d68d-4745-a735-048d72d8e5d6",
   "metadata": {
    "tags": []
   },
   "outputs": [],
   "source": [
    "from bs4 import BeautifulSoup\n",
    "from IPython.display import JSON, clear_output, display\n",
    "from tqdm import tqdm\n",
    "import urllib.parse"
   ]
  },
  {
   "cell_type": "code",
   "execution_count": 37,
   "id": "8c58d5dd-bd0f-40eb-99e3-ea305a925127",
   "metadata": {
    "tags": []
   },
   "outputs": [],
   "source": [
    "from rag.evaluate import extract_from_response\n",
    "from rag.data import fetch_text"
   ]
  },
  {
   "cell_type": "code",
   "execution_count": 38,
   "id": "ca019cc9-3241-4453-b63d-ef7c44ba584a",
   "metadata": {
    "tags": []
   },
   "outputs": [],
   "source": [
    "# Load dataset\n",
    "with open(Path(ROOT_DIR, \"datasets/eval-dataset-v1.jsonl\"), \"r\") as f:\n",
    "    data = [json.loads(item) for item in list(f)]"
   ]
  },
  {
   "cell_type": "code",
   "execution_count": 39,
   "id": "3cd9e509-1fe6-42ad-886f-0e118e8dd35d",
   "metadata": {
    "tags": []
   },
   "outputs": [
    {
     "data": {
      "text/plain": [
       "[{'question': 'I’m struggling a bit with Ray Data type conversions when I do map_batches. Any advice?',\n",
       "  'source': 'https://docs.ray.io/en/master/data/transforming-data.html#configuring-batch-format'},\n",
       " {'question': 'How does autoscaling work in a Ray Serve application?',\n",
       "  'source': 'https://docs.ray.io/en/master/serve/scaling-and-resource-allocation.html#autoscaling'},\n",
       " {'question': 'how do I get the address of a ray node',\n",
       "  'source': 'https://docs.ray.io/en/master/ray-core/miscellaneous.html#node-information'},\n",
       " {'question': 'Does Ray support NCCL?',\n",
       "  'source': 'https://docs.ray.io/en/master/ray-more-libs/ray-collective.html'},\n",
       " {'question': 'Is Ray integrated with DeepSpeed?',\n",
       "  'source': 'https://docs.ray.io/en/master/ray-air/examples/gptj_deepspeed_fine_tuning.html#fine-tuning-the-model-with-ray-air-a-name-train-a'}]"
      ]
     },
     "execution_count": 39,
     "metadata": {},
     "output_type": "execute_result"
    }
   ],
   "source": [
    "data[:5]"
   ]
  },
  {
   "cell_type": "code",
   "execution_count": 40,
   "id": "eaeb8f67-0fef-4b0e-a362-cceb04f3295b",
   "metadata": {
    "tags": []
   },
   "outputs": [
    {
     "data": {
      "text/plain": [
       "'\\nConfiguring batch format#\\nRay Data represents batches as dicts of NumPy ndarrays or pandas DataFrames. By\\ndefault, Ray Data represents batches as dicts of NumPy ndarrays.\\nTo configure the batch type, specify batch_format in\\nmap_batches(). You can return either format from your function.\\n\\n\\n\\nNumPy\\nfrom typing import Dict\\nimport numpy as np\\nimport ray\\n\\ndef increase_brightness(batch: Dict[str, np.ndarray]) -> Dict[str, np.ndarray]:\\n    batch[\"image\"] = np.clip(batch[\"image\"] + 4, 0, 255)\\n    return batch\\n\\nds = (\\n    ray.data.read_images(\"s3://anonymous@ray-example-data/image-datasets/simple\")\\n    .map_batches(increase_brightness, batch_format=\"numpy\")\\n)\\n\\n\\n\\n\\n\\npandas\\nimport pandas as pd\\nimport ray\\n\\ndef drop_nas(batch: pd.DataFrame) -> pd.DataFrame:\\n    return batch.dropna()\\n\\nds = (\\n    ray.data.read_csv(\"s3://anonymous@air-example-data/iris.csv\")\\n    .map_batches(drop_nas, batch_format=\"pandas\")\\n)\\n\\n\\n\\n\\n'"
      ]
     },
     "execution_count": 40,
     "metadata": {},
     "output_type": "execute_result"
    }
   ],
   "source": [
    "# Sample\n",
    "uri = \"https://docs.ray.io/en/master/data/transforming-data.html#configuring-batch-format\"\n",
    "fetch_text(uri=uri)"
   ]
  },
  {
   "cell_type": "code",
   "execution_count": 41,
   "id": "dec3460f-c07a-4a2f-95f7-d1ef85d1a064",
   "metadata": {
    "tags": []
   },
   "outputs": [],
   "source": [
    "# Content for inference\n",
    "system_content = \"\"\"\n",
    "    Answer the query using the context provided. Be succinct.\n",
    "    Then, you must {score} your response between 1 and 5.\n",
    "    You must return your response in a line with only the score.\n",
    "    Do not add any more details.\n",
    "    On a separate line provide your {reasoning} for the score as well.\n",
    "    Return your response following the exact format outlined below.\n",
    "    Do not add or remove anything.\n",
    "    And all of this must be in a valid JSON format.\n",
    "    \n",
    "    {\"answer\": answer,\n",
    "     \"score\": score,\n",
    "     \"reasoning\": reasoning}\n",
    "    \"\"\"\n",
    "assistant_content = \"\""
   ]
  },
  {
   "cell_type": "code",
   "execution_count": 42,
   "id": "7dc33d2e-51b1-4417-8f8d-3699d5840fc0",
   "metadata": {
    "tags": []
   },
   "outputs": [],
   "source": [
    "class QueryAgentWithContext(QueryAgent):\n",
    "    def __call__(self, query, context):\n",
    "        user_content = f\"query: {query}, context: {context}\"\n",
    "        response = generate_response(\n",
    "            llm=self.llm,\n",
    "            temperature=self.temperature,\n",
    "            stream=True,\n",
    "            system_content=self.system_content,\n",
    "            assistant_content=self.assistant_content,\n",
    "            user_content=user_content[: self.context_length])\n",
    "        return response"
   ]
  },
  {
   "cell_type": "code",
   "execution_count": 43,
   "id": "63c2db65-36fc-48cb-8e86-18b96554f977",
   "metadata": {
    "tags": []
   },
   "outputs": [],
   "source": [
    "def get_references(data, llm, temperature, system_content, assistant_content, num_samples=None):\n",
    "    # Initialize agent\n",
    "    agent = QueryAgentWithContext(\n",
    "        llm=llm, \n",
    "        temperature=temperature,\n",
    "        system_content=system_content,\n",
    "        assistant_content=assistant_content)\n",
    "    \n",
    "    results = []\n",
    "    for row in tqdm(data[:num_samples]):\n",
    "        # Generate response\n",
    "        query = row[\"question\"]\n",
    "        context = fetch_text(uri=row[\"source\"])\n",
    "        response = agent(query=query, context=context)\n",
    "\n",
    "        # Extract from response\n",
    "        answer, score, reasoning = extract_from_response(response=response)\n",
    "        result = ({\n",
    "                \"question\": query,\n",
    "                \"source\": row[\"source\"],\n",
    "                \"answer\": answer,\n",
    "                \"score\": score,\n",
    "                \"reasoning\": reasoning,\n",
    "            })\n",
    "        results.append(result)\n",
    "        clear_output(wait=True)\n",
    "        display(JSON(json.dumps(result, indent=2)))\n",
    "    return results"
   ]
  },
  {
   "cell_type": "markdown",
   "id": "06c3cf4c-638a-4741-861e-ca0a1b940ee5",
   "metadata": {},
   "source": [
    "Let's generate reference responses with `gpt-4` as well:"
   ]
  },
  {
   "cell_type": "code",
   "execution_count": 47,
   "id": "25cb4b98-ddc7-462e-8d6f-92f703bfc838",
   "metadata": {
    "tags": []
   },
   "outputs": [
    {
     "data": {
      "application/json": {
       "answer": "You can configure the batch type in Ray Data by specifying the 'batch_format' in the 'map_batches()' function. If you're working with NumPy ndarrays, your function should return a dict of NumPy ndarrays. If you're working with pandas DataFrames, your function should return a pandas DataFrame. Make sure your function is returning the correct type based on your specified 'batch_format'.",
       "question": "I’m struggling a bit with Ray Data type conversions when I do map_batches. Any advice?",
       "reasoning": "The context provides clear instructions on how to handle data type conversions when using the 'map_batches()' function in Ray Data. It explains that the function used should return the correct type based on the 'batch_format' specified, either a dict of NumPy ndarrays or a pandas DataFrame.",
       "score": 5,
       "source": "https://docs.ray.io/en/master/data/transforming-data.html#configuring-batch-format"
      },
      "text/plain": [
       "<IPython.core.display.JSON object>"
      ]
     },
     "metadata": {
      "application/json": {
       "expanded": false,
       "root": "root"
      }
     },
     "output_type": "display_data"
    },
    {
     "name": "stderr",
     "output_type": "stream",
     "text": [
      "100%|██████████| 1/1 [00:12<00:00, 12.55s/it]"
     ]
    },
    {
     "name": "stdout",
     "output_type": "stream",
     "text": [
      "5.0\n"
     ]
    },
    {
     "name": "stderr",
     "output_type": "stream",
     "text": [
      "\n"
     ]
    }
   ],
   "source": [
    "# GPT-4\n",
    "results = get_references(\n",
    "    data=data, num_samples=num_samples, llm=\"gpt-4\", temperature=0.0, \n",
    "    system_content=system_content, assistant_content=assistant_content)\n",
    "print (np.mean([float(result[\"score\"]) for result in results if result[\"score\"]]))"
   ]
  },
  {
   "cell_type": "code",
   "execution_count": 51,
   "id": "0b8356fb-2a34-4697-b478-36911b582e99",
   "metadata": {
    "tags": []
   },
   "outputs": [],
   "source": [
    "# Save to file\n",
    "REFERENCES_FILE_PATH = Path(EXPERIMENTS_DIR, \"references\", \"gpt-4.json\")\n",
    "REFERENCES_FILE_PATH.parent.mkdir(parents=True, exist_ok=True)\n",
    "with open(REFERENCES_FILE_PATH, \"w\") as fp:\n",
    "    json.dump(results, fp, indent=4)"
   ]
  },
  {
   "cell_type": "markdown",
   "id": "4c522532-98c2-46e9-b262-1747145f34e1",
   "metadata": {},
   "source": [
    "We can use these responses to decide on a quality evaluator for our future experiments. This evaluator will be used to score answers for different experiment configuations and so we need to be able to trust their scores, reasoning, etc. We did the same with Llama-2-70b as an evaluator and we determined that it was not a good evaluator. For most answers the reasoning is not good, and the score is pretty random with lots of 4s. Therefore, our evaluator will be `gpt-4`."
   ]
  },
  {
   "cell_type": "code",
   "execution_count": 44,
   "id": "dceefac3-e86c-4f2b-96ee-99e3f026692f",
   "metadata": {
    "tags": []
   },
   "outputs": [],
   "source": [
    "EVALUATOR = \"gpt-4\""
   ]
  },
  {
   "cell_type": "markdown",
   "id": "36a5e137-1f4a-4c31-b1af-0c9e48131f82",
   "metadata": {},
   "source": [
    "## Cold start"
   ]
  },
  {
   "cell_type": "markdown",
   "id": "67a7f87b-9f90-40c7-85df-2e0c287a5144",
   "metadata": {},
   "source": [
    "We may not always have a prepared dataset of questions and the best source to answer that question readily available. To address this cold start problem, we could use an LLM to look at our text chunks and generate questions that the specific chunk would answer. This provides us with quality questions and the exact source the answer is in. However, this dataset generation method could be a bit noisy. The generate questions may not always be resembling of what your users may ask and the specific chunk we say is the best source may also have that exact information in other chunks. Nonetheless, this is a great way to start our development process while we collect + manually label a high quality dataset.\n",
    "\n",
    "<span style=\"background: yellow; color: red; font-size: 1rem;\"><b>DIAGRAM:</b></span> Show the synthetic data generation process."
   ]
  },
  {
   "cell_type": "code",
   "execution_count": null,
   "id": "30844ad6-adb6-43d8-af54-0604e7942816",
   "metadata": {
    "tags": []
   },
   "outputs": [],
   "source": [
    "# Prompt\n",
    "num_questions = 3\n",
    "system_content = f\"\"\"\n",
    "Create {num_questions} questions using only the context provided.\n",
    "End each question with a '?' character and then in a newline write the answer to that question using only the context provided.\n",
    "Separate each question/answer pair by a newline.\n",
    "\"\"\""
   ]
  },
  {
   "cell_type": "code",
   "execution_count": 63,
   "id": "51b0e827-5eaa-4c52-b52e-0d46f39a3666",
   "metadata": {
    "tags": []
   },
   "outputs": [],
   "source": [
    "# Generate questions\n",
    "synthetic_data = []\n",
    "for chunk in chunks[:1]:  # small samples\n",
    "    response = generate_response(\n",
    "        llm=\"gpt-4\",\n",
    "        temperature=0.0,\n",
    "        system_content=system_content,\n",
    "        user_content=f\"context: {chunk.page_content}\")\n",
    "    entries = response.split(\"\\n\\n\")\n",
    "    for entry in entries:\n",
    "        question, answer = entry.split(\"\\n\")\n",
    "        synthetic_data.append({\"question\": question, \"source\": chunk.metadata[\"source\"], \"answer\": answer})"
   ]
  },
  {
   "cell_type": "code",
   "execution_count": 64,
   "id": "f083eaf6-6c0e-4e8d-a4a2-cc32bea470af",
   "metadata": {
    "tags": []
   },
   "outputs": [
    {
     "data": {
      "text/plain": [
       "[{'question': 'What is the context discussing about?',\n",
       "  'source': 'https://docs.ray.io/en/master/tune/api/integration.html#external-library-integrations-for-ray-tune',\n",
       "  'answer': 'The context is discussing about external library integrations for Ray Tune.'},\n",
       " {'question': 'What is Ray Tune?',\n",
       "  'source': 'https://docs.ray.io/en/master/tune/api/integration.html#external-library-integrations-for-ray-tune',\n",
       "  'answer': 'The context does not provide information on what Ray Tune is.'},\n",
       " {'question': 'What are external library integrations?',\n",
       "  'source': 'https://docs.ray.io/en/master/tune/api/integration.html#external-library-integrations-for-ray-tune',\n",
       "  'answer': 'The context does not provide information on what external library integrations are.'}]"
      ]
     },
     "execution_count": 64,
     "metadata": {},
     "output_type": "execute_result"
    }
   ],
   "source": [
    "synthetic_data[:3]"
   ]
  },
  {
   "cell_type": "markdown",
   "id": "5b029edf-e018-427f-a1c9-2b4bf689d09c",
   "metadata": {},
   "source": [
    "## Experiments"
   ]
  },
  {
   "cell_type": "markdown",
   "id": "8dea24ed-0a47-47a6-9881-0af1ea8c5691",
   "metadata": {},
   "source": [
    "With our evaluator set, we're ready to start experimenting with the various components in our LLM application. While we could perform this as a large [tuning experiment](https://docs.ray.io/en/latest/tune/index.html), where we can search across promising combintion of values/decisions, we're going to evaluation one decision at a time and fix the best value for the next experiment.\n",
    "\n",
    "**Note**: this approach is slightly biased because many of our decisions are not indepedent (ex. `chunk_size` and `num_chunks` should ideally be evaluated across many combinations of values).\n",
    "\n",
    "<span style=\"background: yellow; color: red; font-size: 1rem;\"><b>DIAGRAM:</b></span> Illustrate all the components that we'll be tuning."
   ]
  },
  {
   "cell_type": "markdown",
   "id": "f8b51fd3-7a86-41dd-91bb-adcb83bf7269",
   "metadata": {},
   "source": [
    "### Utilities"
   ]
  },
  {
   "cell_type": "markdown",
   "id": "07b3f59f-f79b-4cdb-b55f-6d1d5d245628",
   "metadata": {},
   "source": [
    "Before we get started with our experiments, we're going to define some utility functions that we'll use to easily generate and evaluate responses using the different experiment configurations. We'll also define some functions to help determine our response quality score, retrieval recall score, etc.\n",
    "\n",
    "<span style=\"background: yellow; color: red; font-size: 1rem;\"><b>DIAGRAM:</b></span> Represent the main experiment function doing the `generate` and `evaluate` responses."
   ]
  },
  {
   "cell_type": "markdown",
   "id": "a42a1ebb-b3d2-48d7-9d9f-bf5231cfe5b8",
   "metadata": {},
   "source": [
    "We'll set where our labeled data and reference reports are located. We'll be using the former to generate responses and the latter dataset to evaluate those responses."
   ]
  },
  {
   "cell_type": "code",
   "execution_count": 45,
   "id": "c084e6dd-b8b7-4492-9346-a3455e26e96f",
   "metadata": {
    "tags": []
   },
   "outputs": [],
   "source": [
    "from rag.generate import generate_responses\n",
    "from rag.evaluate import evaluate_responses"
   ]
  },
  {
   "cell_type": "markdown",
   "id": "3734e048-033c-46c3-834f-5cc4b380e00a",
   "metadata": {},
   "source": [
    "Let's define a function to determine our retrieval score, which registers a success if the best source is anywhere in our retrieval `num_chunks` sources. We don't account for order, exact page section, etc. but we could add those constraints to have a more conservative retreival score."
   ]
  },
  {
   "cell_type": "code",
   "execution_count": 46,
   "id": "73a57c87-8ef0-4d45-9594-34ca07ff7210",
   "metadata": {
    "tags": []
   },
   "outputs": [],
   "source": [
    "def get_retrieval_score(references, generated):\n",
    "    matches = np.zeros(len(references))\n",
    "    for i in range(len(references)):\n",
    "        reference_source = references[i][\"source\"].split(\"#\")[0]\n",
    "        if not reference_source:\n",
    "            matches[i] = 1\n",
    "            continue\n",
    "        for source in generated[i][\"sources\"]:\n",
    "            # sections don't have to perfectly match\n",
    "            if reference_source == source.split(\"#\")[0]:\n",
    "                matches[i] = 1\n",
    "                continue\n",
    "    retrieval_score = np.mean(matches)\n",
    "    return retrieval_score"
   ]
  },
  {
   "cell_type": "markdown",
   "id": "7a7c708e-8fd1-4560-b65f-cf62d0034722",
   "metadata": {},
   "source": [
    "We'll define one encompassing function that will generate and evaluate the responses so that we can run these experiments with one function call."
   ]
  },
  {
   "cell_type": "code",
   "execution_count": 47,
   "id": "66a76e95-9c1b-488f-bd9f-750a176d3d77",
   "metadata": {
    "tags": []
   },
   "outputs": [],
   "source": [
    "def run_experiment(\n",
    "    experiment_name,\n",
    "    chunk_size, chunk_overlap, num_chunks,\n",
    "    embedding_model_name, llm, evaluator,\n",
    "    docs_dir, experiments_dir, references_fp,\n",
    "    num_samples=None):\n",
    "    \"\"\"Generate responses and evaluate them.\"\"\"\n",
    "    \n",
    "    # Generate responses\n",
    "    generation_system_content = \"Answer the query using the context provided. Be succinct.\"\n",
    "    generate_responses(\n",
    "        experiment_name=experiment_name, \n",
    "        chunk_size=chunk_size, \n",
    "        chunk_overlap=chunk_overlap, \n",
    "        num_chunks=num_chunks,\n",
    "        embedding_model_name=embedding_model_name, \n",
    "        llm=llm, \n",
    "        temperature=0.0, \n",
    "        max_context_length=MAX_CONTEXT_LENGTHS[llm], \n",
    "        system_content=generation_system_content,\n",
    "        assistant_content=\"\",\n",
    "        docs_dir=docs_dir,\n",
    "        experiments_dir=experiments_dir,\n",
    "        references_fp=references_fp,\n",
    "        num_samples=num_samples)\n",
    "\n",
    "    # Evaluate responses\n",
    "    evaluation_system_content = \"\"\"\n",
    "        Your job is to rate the quality of our generated answer {generated_answer}\n",
    "        given a query {query} and a reference answer {reference_answer}.\n",
    "        Your score has to be between 1 and 5.\n",
    "        You must return your response in a line with only the score.\n",
    "        Do not return answers in any other format.\n",
    "        On a separate line provide your reasoning for the score as well.\n",
    "        \"\"\"\n",
    "    evaluate_responses(\n",
    "        experiment_name=experiment_name,\n",
    "        evaluator=evaluator, \n",
    "        temperature=0.0, \n",
    "        max_context_length=MAX_CONTEXT_LENGTHS[evaluator],\n",
    "        system_content=evaluation_system_content,\n",
    "        assistant_content=\"\",\n",
    "        experiments_dir=experiments_dir,\n",
    "        references_fp=references_fp,\n",
    "        responses_fp=str(Path(experiments_dir, \"responses\", f\"{experiment_name}.json\")),\n",
    "        num_samples=num_samples)"
   ]
  },
  {
   "cell_type": "code",
   "execution_count": 48,
   "id": "169201fd-aa78-4459-a55f-04c97f1938aa",
   "metadata": {
    "tags": []
   },
   "outputs": [],
   "source": [
    "def print_experiment(experiment_name, experiments_dir, evaluator=EVALUATOR):\n",
    "    eval_fp = Path(experiments_dir, \"evaluations\", f\"{experiment_name}_{evaluator}.json\")\n",
    "    with open(eval_fp, \"r\") as fp:\n",
    "        d = json.load(fp)\n",
    "    print (experiment_name)\n",
    "    print (\"  retrieval score:\", d[\"retrieval_score\"])\n",
    "    print (\"  quality score:\", d[\"quality_score\"])\n",
    "    print ()"
   ]
  },
  {
   "cell_type": "code",
   "execution_count": 49,
   "id": "8accfe8a-5041-4b94-a225-9e34a73ac5b8",
   "metadata": {
    "tags": []
   },
   "outputs": [],
   "source": [
    "llm = \"gpt-3.5-turbo\""
   ]
  },
  {
   "cell_type": "markdown",
   "id": "6b31ebee-f839-4aaa-b328-72cee088c830",
   "metadata": {
    "tags": []
   },
   "source": [
    "### Context"
   ]
  },
  {
   "cell_type": "markdown",
   "id": "e89f56c4-2629-4ff7-b57c-f319170937de",
   "metadata": {},
   "source": [
    "We're first going to test if the additonal context we provide is helpful at all. This is to validate that the RAG system is indeed worth the effort. We can do this by settings `num_chunks=0` (no context) and comparing that to `num_chunks=5`."
   ]
  },
  {
   "cell_type": "code",
   "execution_count": null,
   "id": "91cefda6-0ec7-40a2-afc0-b8af2bdd3332",
   "metadata": {
    "tags": []
   },
   "outputs": [],
   "source": [
    "# Without context\n",
    "num_chunks = 0\n",
    "experiment_name = f\"without-context\"\n",
    "run_experiment(\n",
    "    experiment_name=experiment_name, \n",
    "    chunk_size=300, \n",
    "    chunk_overlap=50,\n",
    "    num_chunks=num_chunks,\n",
    "    embedding_model_name=\"thenlper/gte-base\",\n",
    "    llm=llm,\n",
    "    evaluator=EVALUATOR,\n",
    "    docs_dir=DOCS_DIR, \n",
    "    experiments_dir=EXPERIMENTS_DIR, \n",
    "    references_fp=REFERENCES_FILE_PATH,\n",
    "    num_samples=NUM_SAMPLES)"
   ]
  },
  {
   "cell_type": "markdown",
   "id": "8c5739a2-bd2b-4949-a1be-1f58b71768b2",
   "metadata": {},
   "source": [
    "As a sanity check, our retrieval score should be zero since we're not using any context :)"
   ]
  },
  {
   "cell_type": "code",
   "execution_count": 55,
   "id": "d811b485-6d78-412a-8653-d92f4c34b8a8",
   "metadata": {
    "tags": []
   },
   "outputs": [
    {
     "name": "stdout",
     "output_type": "stream",
     "text": [
      "without-context\n",
      "  retrieval score: 0.0\n",
      "  quality score: 3.110169491525424\n",
      "\n"
     ]
    }
   ],
   "source": [
    "print_experiment(experiment_name, EXPERIMENTS_DIR)"
   ]
  },
  {
   "cell_type": "code",
   "execution_count": 56,
   "id": "a819c26a-9e05-484b-8e57-edfd26a84d4d",
   "metadata": {
    "tags": []
   },
   "outputs": [
    {
     "data": {
      "application/json": {
       "generated_answer": "If you are struggling with Ray Data type conversions when using `map_batches`, here is some advice:\n\nRay Data represents batches as NumPy arrays or pandas DataFrames. You can configure the batch type by specifying `batch_format` in the `map_batches` method. By default, Ray Data represents batches as dicts of NumPy ndarrays.\n\nTo inspect the inputs to `map_batches`, you can use the `map_batches` method. This method is useful for inspecting the inputs before performing any operations.\n\nIf you want to configure the batch type, you can specify `batch_format` in the `map_batches` method. You can choose to represent batches as dicts of NumPy ndarrays or pandas DataFrames. You can return either format from your function.\n\nI hope this advice helps you with your Ray Data type conversions when using `map_batches`.",
       "question": "I’m struggling a bit with Ray Data type conversions when I do map_batches. Any advice?",
       "reasoning": "The generated answer provides a detailed explanation and advice on how to handle Ray Data type conversions when using `map_batches`. It correctly mentions the use of `batch_format` and the different formats that can be used. However, it repeats some information, which could have been avoided. The reference answer is more concise and to the point, but the generated answer still provides useful and accurate information.",
       "reference_answer": "You can specify the batch format in the map_batches() function. If you're working with NumPy ndarrays, your function should accept and return a dictionary of ndarrays. If you're working with pandas DataFrames, your function should accept and return a DataFrame. Make sure your function is correctly handling the specified batch format.",
       "score": 4,
       "sources": [
        "https://docs.ray.io/en/master/data/api/doc/ray.data.Dataset.take_batch.html#ray-data-dataset-take-batch",
        "https://docs.ray.io/en/master/data/api/doc/ray.data.Dataset.take_batch.html#ray-data-dataset-take-batch",
        "https://docs.ray.io/en/master/data/api/doc/ray.data.Dataset.map_batches.html#ray-data-dataset-map-batches",
        "https://docs.ray.io/en/master/data/api/doc/ray.data.Dataset.map_batches.html#ray-data-dataset-map-batches",
        "https://docs.ray.io/en/master/data/transforming-data.html#configuring-batch-format"
       ]
      },
      "text/plain": [
       "<IPython.core.display.JSON object>"
      ]
     },
     "metadata": {
      "application/json": {
       "expanded": false,
       "root": "root"
      }
     },
     "output_type": "display_data"
    },
    {
     "name": "stderr",
     "output_type": "stream",
     "text": [
      "100%|██████████| 1/1 [00:04<00:00,  4.54s/it]\n"
     ]
    }
   ],
   "source": [
    "# With context\n",
    "num_chunks = 5\n",
    "experiment_name = \"with-context\"\n",
    "run_experiment(\n",
    "    experiment_name=experiment_name, \n",
    "    chunk_size=300, \n",
    "    chunk_overlap=50, \n",
    "    num_chunks=num_chunks,\n",
    "    embedding_model_name=\"thenlper/gte-base\",\n",
    "    llm=llm,\n",
    "    evaluator=EVALUATOR,\n",
    "    docs_dir=DOCS_DIR, \n",
    "    experiments_dir=EXPERIMENTS_DIR, \n",
    "    references_fp=REFERENCES_FILE_PATH,\n",
    "    num_samples=NUM_SAMPLES)"
   ]
  },
  {
   "cell_type": "code",
   "execution_count": 61,
   "id": "8327cf28-5114-4e93-b769-014108dd743a",
   "metadata": {
    "tags": []
   },
   "outputs": [
    {
     "name": "stdout",
     "output_type": "stream",
     "text": [
      "with-context\n",
      "  retrieval score: 0.5254237288135594\n",
      "  quality score: 3.4491525423728815\n",
      "\n"
     ]
    }
   ],
   "source": [
    "print_experiment(experiment_name, EXPERIMENTS_DIR)"
   ]
  },
  {
   "cell_type": "markdown",
   "id": "df01f761-d3a7-4783-9fa7-57f62679b548",
   "metadata": {},
   "source": [
    "As we can see, using context (RAG) does indeed help in the quality of our answers (and by a meaningful margin)."
   ]
  },
  {
   "cell_type": "markdown",
   "id": "6acc3a24-007d-4add-b0dd-5832351c6d63",
   "metadata": {
    "tags": []
   },
   "source": [
    "### Chunk size"
   ]
  },
  {
   "cell_type": "markdown",
   "id": "11775f23-89ef-432d-a00d-2a11ffaebf67",
   "metadata": {},
   "source": [
    "Next, we'll access various chunk sizes. Smaller chunks (but not too small!) are able to encapsulate atomic concepts which yields more precise retrieval. While larger chunks may be more noisy. Popular strategies include using small chunks but retrieving a bit of the [surrounding chunks](https://gpt-index.readthedocs.io/en/latest/end_to_end_tutorials/dev_practices/production_rag.html#decoupling-chunks-used-for-retrieval-vs-chunks-used-for-synthesis) around it (since it may have relevnat info) or store [mulitple embeddings](https://python.langchain.com/docs/modules/data_connection/retrievers/multi_vector) per document (ex. summary embedding per document). \n",
    "\n",
    "<span style=\"background: yellow; color: red; font-size: 1rem;\"><b>DIAGRAM:</b></span> illustrate small vs large and popular strategies."
   ]
  },
  {
   "cell_type": "code",
   "execution_count": 65,
   "id": "64b691b8-b2ea-4f77-857a-09e50053699c",
   "metadata": {
    "tags": []
   },
   "outputs": [],
   "source": [
    "chunk_sizes = [100, 300, 500, 700]"
   ]
  },
  {
   "cell_type": "code",
   "execution_count": 66,
   "id": "53c054d1-9e4d-4688-b4b9-cf5a39b382c3",
   "metadata": {
    "tags": []
   },
   "outputs": [
    {
     "data": {
      "application/json": {
       "generated_answer": "To kill a specific serve replica, you can use the `ray.kill()` function in Python. First, you need to import the `ray` module. Then, you can get a handle to the replica using its actor ID and namespace. Finally, call `ray.kill()` with the replica handle and set `no_restart=True` to prevent the replica from being restarted.\n\nHere is an example code snippet:\n\n```python\nimport ray\n\nreplica_handle = ray.get_actor(\"SERVE_REPLICA::SleepyPid#RlRptP\", namespace=\"serve\")\nray.kill(replica_handle, no_restart=True)\n```\n\nPlease note that killing a replica will not affect the other replicas, and they can continue processing requests. Eventually, the killed replica will restart and continue serving requests.\n\nYou can also use the Ray State API to check the status of the controller:\n\n```bash\n$ ray list actors --filter \"class_name=ServeController\"\n```\n\nTo kill the Serve controller, you can get a handle to it using its name from the `ray list actor` output. Then, call `ray.kill()` with the controller handle and set `no_restart=True`.\n\nHere is an example code snippet:\n\n```python\nimport ray\n\ncontroller_handle = ray.get_actor(\"SERVE_CONTROLLER_ACTOR\", namespace=\"serve\")\nray.kill(controller_handle, no_restart=True)\n```\n\nSimulating a Serve controller failure can be done by manually killing the Serve actor. If you are running KubeRay, you can execute the following command to get a list of pods:\n\n```bash\n$ kubectl get pods\n```\n\nOnce you have the pod name, you can exec into one of the pods using the following command:\n\n```bash\n$ kubectl exec -it <pod_name> -- /bin/bash\n```\n\nFrom there, you can manually kill the Serve actor to simulate a controller failure.",
       "question": "how do I kill a specific serve replica",
       "reasoning": "The generated answer is comprehensive and provides a detailed step-by-step guide on how to kill a specific serve replica. It also includes code snippets for better understanding. The reference answer does not provide any useful information, hence the generated answer is much more informative and helpful.",
       "reference_answer": "The context does not provide information on how to kill a specific serve replica.",
       "score": 5,
       "sources": [
        "https://docs.ray.io/en/master/serve/production-guide/fault-tolerance.html#deployment-replica-failure",
        "https://docs.ray.io/en/master/serve/production-guide/fault-tolerance.html#serve-controller-failure",
        "https://docs.ray.io/en/master/serve/production-guide/fault-tolerance.html#deployment-replica-failure",
        "https://docs.ray.io/en/master/serve/production-guide/fault-tolerance.html#head-node-failure",
        "https://docs.ray.io/en/master/serve/production-guide/fault-tolerance.html#serve-controller-failure"
       ]
      },
      "text/plain": [
       "<IPython.core.display.JSON object>"
      ]
     },
     "metadata": {
      "application/json": {
       "expanded": false,
       "root": "root"
      }
     },
     "output_type": "display_data"
    },
    {
     "name": "stderr",
     "output_type": "stream",
     "text": [
      "100%|██████████| 177/177 [21:14<00:00,  7.20s/it]\n"
     ]
    }
   ],
   "source": [
    "for chunk_size in chunk_sizes:\n",
    "    experiment_name = f\"chunk-size-{chunk_size}\"\n",
    "    run_experiment(\n",
    "        experiment_name=experiment_name, \n",
    "        chunk_size=chunk_size, \n",
    "        chunk_overlap=50, \n",
    "        num_chunks=5,\n",
    "        embedding_model_name=\"thenlper/gte-base\",\n",
    "        llm=llm,\n",
    "        evaluator=EVALUATOR,\n",
    "        docs_dir=DOCS_DIR, \n",
    "        experiments_dir=EXPERIMENTS_DIR, \n",
    "        references_fp=REFERENCES_FILE_PATH,\n",
    "        num_samples=NUM_SAMPLES)"
   ]
  },
  {
   "cell_type": "code",
   "execution_count": 67,
   "id": "bc0e486a-de51-4cf0-8852-00d6ac8b532c",
   "metadata": {
    "tags": []
   },
   "outputs": [
    {
     "name": "stdout",
     "output_type": "stream",
     "text": [
      "chunk-size-100\n",
      "  retrieval score: 0.4180790960451977\n",
      "  quality score: 3.073446327683616\n",
      "\n",
      "chunk-size-300\n",
      "  retrieval score: 0.5254237288135594\n",
      "  quality score: 3.3983050847457625\n",
      "\n",
      "chunk-size-500\n",
      "  retrieval score: 0.5480225988700564\n",
      "  quality score: 3.5338983050847457\n",
      "\n",
      "chunk-size-700\n",
      "  retrieval score: 0.519774011299435\n",
      "  quality score: 3.573446327683616\n",
      "\n"
     ]
    }
   ],
   "source": [
    "for chunk_size in chunk_sizes:\n",
    "    experiment_name = f\"chunk-size-{chunk_size}\"\n",
    "    print_experiment(experiment_name, EXPERIMENTS_DIR)"
   ]
  },
  {
   "cell_type": "markdown",
   "id": "680569cb-d1b3-464e-b771-1f5dd3d0cc66",
   "metadata": {},
   "source": [
    "Seem that a larger chunk size does help but it tapers off around the 600 characters mark (too much context might be too noisy)."
   ]
  },
  {
   "cell_type": "markdown",
   "id": "a316e232-a250-4880-8518-a2ba7a4e5835",
   "metadata": {},
   "source": [
    "**Note**: If we were to use larger chunk sizes (ours is based on characters), keep in mind that [most](https://huggingface.co/spaces/mteb/leaderboard) open source embedding models have a maximum sequence length of 512 sub-word tokens. This means that if our chunk contains more than 512 sub-word tokens, the embedding wouldn't account for it anyway (unless we finetune our embedding model to have longer sequence lengths)."
   ]
  },
  {
   "cell_type": "code",
   "execution_count": 50,
   "id": "04df6ec4-7edf-4a27-93ae-7ee2b3ff7241",
   "metadata": {
    "tags": []
   },
   "outputs": [],
   "source": [
    "CHUNK_SIZE = 500\n",
    "CHUNK_OVERLAP = 50"
   ]
  },
  {
   "cell_type": "markdown",
   "id": "fc80dd05-ced6-49b4-a193-c52fcebc118e",
   "metadata": {
    "tags": []
   },
   "source": [
    "### Number of chunks"
   ]
  },
  {
   "cell_type": "markdown",
   "id": "84fbb854-b016-4c42-97bc-56c7eebfa3dd",
   "metadata": {},
   "source": [
    "Next we'll experiment with the number of chunks to use. More chunks will allow us to add more context but too many could potentially introduce a lot of noise.\n",
    "\n",
    "**Note**: The `chunk_size` we chose multiplied by the `num_chunks` below fits inside the LLM's context length. We're experimenting with the chunk size and number of chunks as if they were indepdent variables but they area heavily related. Especially since all of our LLMs have a finite maximum context length. So ideally, we would tune for a combination if `chunk_size` * `num_chunks`."
   ]
  },
  {
   "cell_type": "code",
   "execution_count": 69,
   "id": "03926725-4dac-43ad-880b-80825d3b958c",
   "metadata": {
    "tags": []
   },
   "outputs": [],
   "source": [
    "num_chunks_list = [1, 3, 5, 7]"
   ]
  },
  {
   "cell_type": "code",
   "execution_count": 70,
   "id": "c514d9c7-e16d-44c4-88b7-72a49b5c4197",
   "metadata": {
    "tags": []
   },
   "outputs": [
    {
     "data": {
      "application/json": {
       "generated_answer": "To kill a specific serve replica, you can use the `ray.kill()` function in Python. First, import the `ray` module. Then, get a handle to the replica using the `ray.get_actor()` function, specifying the actor ID and namespace. Finally, call `ray.kill()` with the replica handle and set `no_restart=True` to prevent the replica from being restarted.\n\nHere is an example code snippet:\n\n```python\nimport ray\n\nreplica_handle = ray.get_actor(\"SERVE_REPLICA::SleepyPid#RlRptP\", namespace=\"serve\")\nray.kill(replica_handle, no_restart=True)\n```\n\nNote that while the specific replica is being restarted, the other replicas can continue processing requests. Eventually, the replica will restart and continue serving requests.\n\nPlease make sure to replace `\"SERVE_REPLICA::SleepyPid#RlRptP\"` with the actual actor ID of the replica you want to kill.",
       "question": "how do I kill a specific serve replica",
       "reasoning": "The generated answer is comprehensive and provides a detailed step-by-step guide on how to kill a specific serve replica, including a code snippet. It is much more informative and helpful than the reference answer, which does not provide any information on the query.",
       "reference_answer": "The context does not provide information on how to kill a specific serve replica.",
       "score": 5,
       "sources": [
        "https://docs.ray.io/en/master/serve/production-guide/fault-tolerance.html#deployment-replica-failure",
        "https://docs.ray.io/en/master/serve/production-guide/fault-tolerance.html#serve-controller-failure",
        "https://docs.ray.io/en/master/serve/advanced-guides/dev-workflow.html#local-development-with-http-requests",
        "https://docs.ray.io/en/master/serve/production-guide/fault-tolerance.html#serve-controller-failure",
        "https://docs.ray.io/en/master/serve/production-guide/fault-tolerance.html#head-node-failure",
        "https://docs.ray.io/en/master/serve/advanced-guides/dev-workflow.html#local-development-with-http-requests",
        "https://docs.ray.io/en/master/serve/production-guide/fault-tolerance.html#worker-node-recovery"
       ]
      },
      "text/plain": [
       "<IPython.core.display.JSON object>"
      ]
     },
     "metadata": {
      "application/json": {
       "expanded": false,
       "root": "root"
      }
     },
     "output_type": "display_data"
    },
    {
     "name": "stderr",
     "output_type": "stream",
     "text": [
      "100%|██████████| 177/177 [24:52<00:00,  8.43s/it]\n"
     ]
    }
   ],
   "source": [
    "for num_chunks in num_chunks_list:\n",
    "    experiment_name = f\"num-chunks-{num_chunks}\"\n",
    "    run_experiment(\n",
    "        experiment_name=experiment_name, \n",
    "        chunk_size=CHUNK_SIZE, \n",
    "        chunk_overlap=CHUNK_OVERLAP, \n",
    "        num_chunks=num_chunks,\n",
    "        embedding_model_name=\"thenlper/gte-base\",\n",
    "        llm=llm,\n",
    "        evaluator=EVALUATOR,\n",
    "        docs_dir=DOCS_DIR, \n",
    "        experiments_dir=EXPERIMENTS_DIR, \n",
    "        references_fp=REFERENCES_FILE_PATH,\n",
    "        num_samples=NUM_SAMPLES)"
   ]
  },
  {
   "cell_type": "code",
   "execution_count": 71,
   "id": "76f5a117-819e-4d06-b9e9-d196a592e123",
   "metadata": {
    "tags": []
   },
   "outputs": [
    {
     "name": "stdout",
     "output_type": "stream",
     "text": [
      "num-chunks-1\n",
      "  retrieval score: 0.20903954802259886\n",
      "  quality score: 3.1045197740112993\n",
      "\n",
      "num-chunks-3\n",
      "  retrieval score: 0.4406779661016949\n",
      "  quality score: 3.477401129943503\n",
      "\n",
      "num-chunks-5\n",
      "  retrieval score: 0.5480225988700564\n",
      "  quality score: 3.5706214689265536\n",
      "\n",
      "num-chunks-7\n",
      "  retrieval score: 0.6214689265536724\n",
      "  quality score: 3.6016949152542375\n",
      "\n"
     ]
    }
   ],
   "source": [
    "for num_chunks in num_chunks_list:\n",
    "    experiment_name=f\"num-chunks-{num_chunks}\"\n",
    "    print_experiment(experiment_name, EXPERIMENTS_DIR)"
   ]
  },
  {
   "cell_type": "markdown",
   "id": "ee986a80-8659-4344-bb22-71bb62b32946",
   "metadata": {},
   "source": [
    "Increasing our number of chunks improves our retrieval and quality scores. We had to stop testing at 6 chunks since our `chunk_size` is 600 tokens and `Llama-2-70b`'s maximum context length is 4096 tokens (we also have to account for the system, assistant and user content to our LLM). This is a major reason to invest in extending context size via RoPE scaling (rotary position embeddings), etc. But it also seems that the benefit of increasing the number of chunks is starting to taper off."
   ]
  },
  {
   "cell_type": "code",
   "execution_count": 51,
   "id": "fbe4828f-9639-4957-898e-27dd0ce3ee32",
   "metadata": {
    "tags": []
   },
   "outputs": [],
   "source": [
    "NUM_CHUNKS = 7"
   ]
  },
  {
   "cell_type": "markdown",
   "id": "1a04dff3-5323-419f-a290-849c96899292",
   "metadata": {},
   "source": [
    "### Embedding models"
   ]
  },
  {
   "cell_type": "markdown",
   "id": "df10c471-22b5-479c-bbbd-59ff3835d7b9",
   "metadata": {},
   "source": [
    "So far, we've used [`thenlper/gte-base`](https://huggingface.co/thenlper/gte-base) as our embedding model because it's a relatively small (0.22 GB) and performant option. But now, let's explore other popular options such the current leader on the [MTEB leaderboard](https://huggingface.co/spaces/mteb/leaderboard), [`BAAI/bge-large-en`](https://huggingface.co/BAAI/bge-large-en) (1.34 GB), and OpenAI's [`text-embedding-ada-002`](https://openai.com/blog/new-and-improved-embedding-model)."
   ]
  },
  {
   "cell_type": "code",
   "execution_count": 73,
   "id": "198ec597-8aaf-4c45-a275-2094211eebb4",
   "metadata": {
    "tags": []
   },
   "outputs": [],
   "source": [
    "embedding_model_names = [\"thenlper/gte-base\", \"BAAI/bge-large-en\", \"text-embedding-ada-002\"]"
   ]
  },
  {
   "cell_type": "code",
   "execution_count": 74,
   "id": "1913f50c-ef13-487d-beeb-77ee38f91067",
   "metadata": {
    "tags": []
   },
   "outputs": [
    {
     "data": {
      "application/json": {
       "generated_answer": "To kill a specific Serve replica, you can manually kill the Serve actor. If you are running KubeRay, you can execute the following command to get the list of pods:\n\n```\nkubectl get pods\n```\n\nOnce you have identified the pod of the replica you want to kill, you can execute the appropriate command to kill it. If you are running Ray, you can use the `ray summary actors` command to get information about the actors, including their process ID (PID).",
       "question": "how do I kill a specific serve replica",
       "reasoning": "The generated answer provides a detailed method on how to kill a specific Serve replica, which is technically correct. However, it does not align with the reference answer which states that there is no context provided for the task. The generated answer assumes the use of KubeRay and Ray, which may not be applicable in all scenarios.",
       "reference_answer": "The context does not provide information on how to kill a specific serve replica.",
       "score": 3,
       "sources": [
        "https://docs.ray.io/en/master/serve/production-guide/fault-tolerance.html#serve-controller-failure",
        "https://docs.ray.io/en/master/serve/advanced-guides/dev-workflow.html#local-development-with-http-requests",
        "https://docs.ray.io/en/master/ray-observability/getting-started.html#serve-application-detail-page",
        "https://docs.ray.io/en/master/serve/production-guide/fault-tolerance.html#deployment-replica-failure",
        "https://docs.ray.io/en/master/serve/production-guide/fault-tolerance.html#worker-node-recovery",
        "https://docs.ray.io/en/master/serve/monitoring.html#ray-dashboard",
        "https://docs.ray.io/en/master/serve/advanced-guides/dev-workflow.html#local-development-with-http-requests"
       ]
      },
      "text/plain": [
       "<IPython.core.display.JSON object>"
      ]
     },
     "metadata": {
      "application/json": {
       "expanded": false,
       "root": "root"
      }
     },
     "output_type": "display_data"
    },
    {
     "name": "stderr",
     "output_type": "stream",
     "text": [
      "100%|██████████| 177/177 [54:21<00:00, 18.42s/it]\n"
     ]
    }
   ],
   "source": [
    "for embedding_model_name in embedding_model_names:\n",
    "    experiment_name = f\"{embedding_model_name.split('/')[-1]}\"\n",
    "    run_experiment(\n",
    "        experiment_name=experiment_name, \n",
    "        chunk_size=CHUNK_SIZE, \n",
    "        chunk_overlap=CHUNK_OVERLAP, \n",
    "        num_chunks=NUM_CHUNKS,\n",
    "        embedding_model_name=embedding_model_name,\n",
    "        llm=llm,\n",
    "        evaluator=EVALUATOR,\n",
    "        docs_dir=DOCS_DIR, \n",
    "        experiments_dir=EXPERIMENTS_DIR, \n",
    "        references_fp=REFERENCES_FILE_PATH,\n",
    "        num_samples=NUM_SAMPLES)"
   ]
  },
  {
   "cell_type": "code",
   "execution_count": 75,
   "id": "2c429ae5-f5a5-4a2e-893a-7add9d11337f",
   "metadata": {
    "tags": []
   },
   "outputs": [
    {
     "name": "stdout",
     "output_type": "stream",
     "text": [
      "gte-base\n",
      "  retrieval score: 0.6214689265536724\n",
      "  quality score: 3.57909604519774\n",
      "\n",
      "bge-large-en\n",
      "  retrieval score: 0.4406779661016949\n",
      "  quality score: 3.3446327683615817\n",
      "\n",
      "text-embedding-ada-002\n",
      "  retrieval score: 0.5988700564971752\n",
      "  quality score: 3.5112994350282487\n",
      "\n"
     ]
    }
   ],
   "source": [
    "for embedding_model_name in embedding_model_names:\n",
    "    experiment_name = f\"{embedding_model_name.split('/')[-1]}\"\n",
    "    print_experiment(experiment_name, EXPERIMENTS_DIR)"
   ]
  },
  {
   "cell_type": "markdown",
   "id": "7fd24b35-1db3-4326-ab0c-c4b484fb5aea",
   "metadata": {},
   "source": [
    "This is an interesting outcome because the #1 (`BAAI/bge-large-en`) on the current leaderboard isn't necessarily the best for our specific task. Using the smaller `thenlper/gte-base` produced the best retrieval and quality scores in our experiments."
   ]
  },
  {
   "cell_type": "code",
   "execution_count": 52,
   "id": "845ad771-65e1-44cf-813f-3aa167c07e31",
   "metadata": {
    "tags": []
   },
   "outputs": [],
   "source": [
    "EMBEDDING_MODEL_NAME = \"thenlper/gte-base\""
   ]
  },
  {
   "cell_type": "markdown",
   "id": "8b21b32f-bacb-4703-b16c-d4a7014779dc",
   "metadata": {},
   "source": [
    "### OSS vs. closed LLMs"
   ]
  },
  {
   "cell_type": "markdown",
   "id": "f393785f-17da-45eb-bf69-1483f74a370e",
   "metadata": {},
   "source": [
    "We're now going to use the best configurations from above to evaluate different choices for the main LLM.\n",
    "\n",
    "**Note**:\n",
    "- We've been using a specific LLM so far to decide on the configuration so that specific LLM's performance here will be a bit biased.\n",
    "- This list is not exhaustive and even for the LLMs we use, there are versions with longer context windows available."
   ]
  },
  {
   "cell_type": "code",
   "execution_count": 63,
   "id": "a91c87cb-ba0d-4044-9616-b2cbad239587",
   "metadata": {
    "tags": []
   },
   "outputs": [],
   "source": [
    "llms = [\"gpt-3.5-turbo\",\n",
    "        \"gpt-4\",\n",
    "        \"meta-llama/Llama-2-7b-chat-hf\", \n",
    "        \"meta-llama/Llama-2-13b-chat-hf\", \n",
    "        \"meta-llama/Llama-2-70b-chat-hf\",\n",
    "        \"tiiuae/falcon-180b\"]"
   ]
  },
  {
   "cell_type": "code",
   "execution_count": 64,
   "id": "072e8114-23ba-402e-a03d-594089e9b4d5",
   "metadata": {
    "tags": []
   },
   "outputs": [
    {
     "data": {
      "application/json": {
       "generated_answer": "Sure, here's the answer to the query based on the provided context:\n\nTo kill a specific replica of a Serve application, you can use the `ray.kill()` function and pass the replica handle as an argument. The replica handle can be obtained by running the command `ray.get_actor(\"SERVE_REPLICA::SleepyPid#RlRptP\", namespace=\"serve\")`. This will return the handle of the replica with the specified name.\n\nFor example, to kill a replica with the name \"SleepyPid#RlRptP\", you can run the following code:\n```\nray.kill(ray.get_actor(\"SERVE_REPLICA::SleepyPid#RlRptP\", namespace=\"serve\"), no_restart=True)\n```\nThis will kill the replica and prevent it from being restarted. The other replicas in the deployment will continue serving traffic until the killed replica is restarted.\n\nNote that if you want to kill the Serve controller, you can use the `ray.kill()` function in a similar way:\n```\nray.kill(ray.get_actor(\"SERVE_CONTROLLER::SleepyPid#RlRptP\", namespace=\"serve\"), no_restart=True)\n```\nThis will kill the Serve controller and prevent it from being restarted. However, note that this will not affect the other replicas in the deployment, which will continue serving traffic until the controller is restarted.\n\nAlso, note that if you want to simulate a failure of the Serve controller, you can manually kill the actor using the `ray.kill()` function. This will allow you to test the recovery mechanism of Serve and ensure that it can handle failures gracefully.",
       "question": "how do I kill a specific serve replica",
       "reasoning": "The generated answer provides a detailed explanation on how to kill a specific serve replica using the `ray.kill()` function. However, the reference answer states that the context does not provide information on how to do this. The generated answer seems to be technically correct and informative, but it does not align with the reference answer.",
       "reference_answer": "The context does not provide information on how to kill a specific serve replica.",
       "score": 2,
       "sources": [
        "https://docs.ray.io/en/master/serve/production-guide/fault-tolerance.html#deployment-replica-failure",
        "https://docs.ray.io/en/master/serve/production-guide/fault-tolerance.html#serve-controller-failure",
        "https://docs.ray.io/en/master/serve/advanced-guides/dev-workflow.html#local-development-with-http-requests",
        "https://docs.ray.io/en/master/serve/production-guide/fault-tolerance.html#serve-controller-failure",
        "https://docs.ray.io/en/master/serve/production-guide/fault-tolerance.html#head-node-failure",
        "https://docs.ray.io/en/master/serve/advanced-guides/dev-workflow.html#local-development-with-http-requests",
        "https://docs.ray.io/en/master/serve/production-guide/fault-tolerance.html#worker-node-recovery"
       ]
      },
      "text/plain": [
       "<IPython.core.display.JSON object>"
      ]
     },
     "metadata": {
      "application/json": {
       "expanded": false,
       "root": "root"
      }
     },
     "output_type": "display_data"
    },
    {
     "name": "stderr",
     "output_type": "stream",
     "text": [
      "100%|██████████| 177/177 [20:22<00:00,  6.91s/it]\n"
     ]
    }
   ],
   "source": [
    "for llm in llms:\n",
    "    experiment_name = f\"{llm.split('/')[-1].lower()}\"\n",
    "    run_experiment(\n",
    "        experiment_name=experiment_name, \n",
    "        chunk_size=CHUNK_SIZE, \n",
    "        chunk_overlap=CHUNK_OVERLAP, \n",
    "        num_chunks=NUM_CHUNKS,\n",
    "        embedding_model_name=EMBEDDING_MODEL_NAME,\n",
    "        llm=llm,\n",
    "        evaluator=EVALUATOR,\n",
    "        docs_dir=DOCS_DIR, \n",
    "        experiments_dir=EXPERIMENTS_DIR, \n",
    "        references_fp=REFERENCES_FILE_PATH,\n",
    "        num_samples=NUM_SAMPLES)"
   ]
  },
  {
   "cell_type": "code",
   "execution_count": 183,
   "id": "375aad73-61c4-4561-be8b-3ad00dde2b54",
   "metadata": {
    "tags": []
   },
   "outputs": [
    {
     "name": "stdout",
     "output_type": "stream",
     "text": [
      "gpt-3.5-turbo\n",
      "  retrieval score: 0.6214689265536724\n",
      "  quality score: 3.57909604519774\n",
      "\n",
      "gpt-4\n",
      "  retrieval score: 0.6214689265536724\n",
      "  quality score: 3.824858757062147\n",
      "\n",
      "llama-2-7b-chat-hf\n",
      "  retrieval score: 0.6214689265536724\n",
      "  quality score: 2.864406779661017\n",
      "\n",
      "llama-2-13b-chat-hf\n",
      "  retrieval score: 0.6214689265536724\n",
      "  quality score: 3.138418079096045\n",
      "\n",
      "llama-2-70b-chat-hf\n",
      "  retrieval score: 0.6214689265536724\n",
      "  quality score: 3.4887005649717513\n",
      "\n",
      "falcon-180b\n",
      "  retrieval score: 0.6214689265536724\n",
      "  quality score: 3.4804469273743015\n",
      "\n"
     ]
    }
   ],
   "source": [
    "for llm in llms:\n",
    "    experiment_name = f\"{llm.split('/')[-1].lower()}\"\n",
    "    print_experiment(experiment_name, EXPERIMENTS_DIR)"
   ]
  },
  {
   "cell_type": "markdown",
   "id": "97d1cd68-f77a-4f13-9454-3add1fc65158",
   "metadata": {},
   "source": [
    "<span style=\"background: yellow; color: red; font-size: 1rem;\"><b>DIAGRAM:</b></span> Represent all evaluation reports with nice tables.\n",
    "\n",
    "**Note**: Some of our LLMs have much larger context lengths, ex. `gpt-4` is 8192 and `gpt-3.5-turbo-16k` is 16384. We could increase the number of chunks that we use for these since we saw that increasing `num_chunks` continued to improve the retrieval and quality scores. However, we will keep this value fixed for now since the performance started to taper off anyway and so we can compare these performances under the exact same configurations."
   ]
  },
  {
   "cell_type": "code",
   "execution_count": 53,
   "id": "0275cb71-6876-404a-bdbe-f79347162696",
   "metadata": {
    "tags": []
   },
   "outputs": [],
   "source": [
    "LLM = \"meta-llama/Llama-2-70b-chat-hf\""
   ]
  },
  {
   "cell_type": "markdown",
   "id": "f916ea05-4b99-4024-9211-ed35bb8ac9dc",
   "metadata": {},
   "source": [
    "## Cost analysis"
   ]
  },
  {
   "cell_type": "markdown",
   "id": "96c145a5-e97e-4811-ba12-c1a37d71c171",
   "metadata": {
    "tags": []
   },
   "source": [
    "**Note**: Our `Llama-2` models are priced at $1/M tokens with [Anyscale Endpoints](https://endpoints.anyscale.com/)."
   ]
  },
  {
   "cell_type": "code",
   "execution_count": 64,
   "id": "ca18129b-62db-49af-9be3-2444d0af5751",
   "metadata": {
    "tags": []
   },
   "outputs": [],
   "source": [
    "# Pricing details\n",
    "pricing = {\n",
    "    \"gpt-3.5-turbo\": {\n",
    "        \"prompt\": 2e-6,\n",
    "        \"sampled\": 2e-6\n",
    "    },\n",
    "    \"gpt-4\": {\n",
    "        \"prompt\": 3e-5,\n",
    "        \"sampled\": 6e-5\n",
    "    },\n",
    "    \"llama-2-7b-chat-hf\": {\n",
    "        \"prompt\": 1e-6,\n",
    "        \"sampled\": 1e-6\n",
    "    },\n",
    "    \"llama-2-13b-chat-hf\": {\n",
    "        \"prompt\": 1e-6,\n",
    "        \"sampled\": 1e-6\n",
    "    },\n",
    "    \"llama-2-70b-chat-hf\": {\n",
    "        \"prompt\": 1e-6,\n",
    "        \"sampled\": 1e-6\n",
    "    }\n",
    "}"
   ]
  },
  {
   "cell_type": "code",
   "execution_count": null,
   "id": "7f020340-9357-4a48-976b-cdac2e467351",
   "metadata": {
    "tags": []
   },
   "outputs": [],
   "source": [
    "def cost_analysis(llm):\n",
    "    experiment_name = f\"{llm.split('/')[-1].lower()}\"\n",
    "    eval_fp = Path(ROOT_DIR, EXPERIMENTS_DIR, \"evaluations\", f\"{experiment_name}_{EVALUATOR}.json\")\n",
    "    with open(eval_fp, \"r\") as fp:\n",
    "        d = json.load(fp)\n",
    "    num_samples = len(d[\"results\"])\n",
    "    prompt_size, sampled_size = 0, 0\n",
    "    for result in d[\"results\"]:\n",
    "        prompt_size += len(result[\"question\"]) + (CHUNK_SIZE * NUM_CHUNKS)\n",
    "        sampled_size += len(result[\"generated_answer\"])\n",
    "    total_cost = pricing[experiment_name][\"prompt\"] * prompt_size + pricing[experiment_name][\"sampled\"] * sampled_size\n",
    "    avg_cost = total_cost / num_samples\n",
    "    \n",
    "    print (llm)\n",
    "    print (f\"  avg prompt size: {int(prompt_size/num_samples)}\")\n",
    "    print (f\"  avg sampled size: {int(sampled_size/num_samples)}\")\n",
    "    print (f\"  total cost: ${total_cost:.2f}\")\n",
    "    print (f\"  avg cost: ${avg_cost:.2f}\")\n",
    "    print ()"
   ]
  },
  {
   "cell_type": "code",
   "execution_count": 67,
   "id": "ee95574b-b355-4d5a-979b-467657bbd959",
   "metadata": {
    "tags": []
   },
   "outputs": [
    {
     "name": "stdout",
     "output_type": "stream",
     "text": [
      "gpt-3.5-turbo\n",
      "  avg prompt size: 3567\n",
      "  avg sampled size: 852\n",
      "  total cost: $1.56\n",
      "  avg cost: $0.01\n",
      "\n",
      "gpt-4\n",
      "  avg prompt size: 3567\n",
      "  avg sampled size: 677\n",
      "  total cost: $26.14\n",
      "  avg cost: $0.15\n",
      "\n",
      "meta-llama/Llama-2-7b-chat-hf\n",
      "  avg prompt size: 3567\n",
      "  avg sampled size: 2375\n",
      "  total cost: $1.05\n",
      "  avg cost: $0.01\n",
      "\n",
      "meta-llama/Llama-2-13b-chat-hf\n",
      "  avg prompt size: 3567\n",
      "  avg sampled size: 1619\n",
      "  total cost: $0.92\n",
      "  avg cost: $0.01\n",
      "\n",
      "meta-llama/Llama-2-70b-chat-hf\n",
      "  avg prompt size: 3567\n",
      "  avg sampled size: 1476\n",
      "  total cost: $0.89\n",
      "  avg cost: $0.01\n",
      "\n"
     ]
    }
   ],
   "source": [
    "for llm in llms[:-1]:\n",
    "    cost_analysis(llm=llm)"
   ]
  },
  {
   "cell_type": "markdown",
   "id": "d223b361-4d14-4ea1-804b-0eb92eb1224e",
   "metadata": {},
   "source": [
    "## Routing"
   ]
  },
  {
   "cell_type": "markdown",
   "id": "2463c757-f54e-4905-bd8b-d00a32c2ec7d",
   "metadata": {},
   "source": [
    "We can close the gap in performance between open source and proprietary models by routing queries to the right model according to the hardness or topic of the query. E.g. for our RAG application, open source models are doing really well on simple queries where most of the answer is already in the sources. Open source models are doing less well on problems that involve reasoning, numbers or code examples. We can train a classifier that takes the query and routes it to the best model. In order to implement this, we hand-annotated a dataset of 1.8k queries according to which model (`Llama-2-70b` or `gpt-4`) does better -- by default we route to `Llama-2-70b` and only if the query needs more advanced capabilities do we send the query to `gpt-4`. We then evaluate the performance of the model on a test set that has been scored with a judge."
   ]
  },
  {
   "cell_type": "code",
   "execution_count": 54,
   "id": "3062aed4-d121-4b6e-b6ef-c479550598eb",
   "metadata": {
    "tags": []
   },
   "outputs": [],
   "source": [
    "import numpy as np\n",
    "import pickle\n",
    "from sklearn.feature_extraction.text import CountVectorizer\n",
    "from sklearn.linear_model import LogisticRegression\n",
    "from sklearn.model_selection import train_test_split\n",
    "from sklearn.metrics import accuracy_score, classification_report\n",
    "from sklearn.metrics import precision_recall_fscore_support\n",
    "from sklearn.pipeline import Pipeline"
   ]
  },
  {
   "cell_type": "markdown",
   "id": "d506e529-518b-4b37-bd81-4d5e7532b528",
   "metadata": {},
   "source": [
    "Let's first train the model on the training dataset `routing-dataset-training.jsonl`."
   ]
  },
  {
   "cell_type": "code",
   "execution_count": 55,
   "id": "86e4a927-ab91-4189-97d2-35bd045c0360",
   "metadata": {},
   "outputs": [],
   "source": [
    "with open(Path(ROOT_DIR, \"datasets\", \"routing-dataset-train.jsonl\")) as f:\n",
    "    records = [json.loads(l) for l in f]\n",
    "    texts = [record[\"question\"] for record in records]\n",
    "    labels = [record[\"target\"] for record in records]"
   ]
  },
  {
   "cell_type": "code",
   "execution_count": 56,
   "id": "9d9a4d97-a39b-409e-9b45-ae609c9f651b",
   "metadata": {
    "tags": []
   },
   "outputs": [
    {
     "name": "stdout",
     "output_type": "stream",
     "text": [
      "Question for GPT-4:\n",
      " {'question': 'if I am inside of a anyscale cluster how do I get my cluster-env-build-id', 'target': 0}\n",
      "\n",
      "Question for Llama-2-70b:\n",
      " {'question': 'what is num_samples in tune?', 'target': 1}\n"
     ]
    }
   ],
   "source": [
    "# Sample records (1 = can be handled by OSS LLM)\n",
    "print (\"Question for GPT-4:\\n\", [record for record in records if record[\"target\"] == 0][0]) \n",
    "print (\"\\nQuestion for Llama-2-70b:\\n\", [record for record in records if record[\"target\"] == 1][0])"
   ]
  },
  {
   "cell_type": "code",
   "execution_count": 57,
   "id": "3021c4fa-caf1-489d-90d5-cf1890214c0d",
   "metadata": {
    "tags": []
   },
   "outputs": [
    {
     "data": {
      "text/html": [
       "<style>#sk-container-id-1 {color: black;}#sk-container-id-1 pre{padding: 0;}#sk-container-id-1 div.sk-toggleable {background-color: white;}#sk-container-id-1 label.sk-toggleable__label {cursor: pointer;display: block;width: 100%;margin-bottom: 0;padding: 0.3em;box-sizing: border-box;text-align: center;}#sk-container-id-1 label.sk-toggleable__label-arrow:before {content: \"▸\";float: left;margin-right: 0.25em;color: #696969;}#sk-container-id-1 label.sk-toggleable__label-arrow:hover:before {color: black;}#sk-container-id-1 div.sk-estimator:hover label.sk-toggleable__label-arrow:before {color: black;}#sk-container-id-1 div.sk-toggleable__content {max-height: 0;max-width: 0;overflow: hidden;text-align: left;background-color: #f0f8ff;}#sk-container-id-1 div.sk-toggleable__content pre {margin: 0.2em;color: black;border-radius: 0.25em;background-color: #f0f8ff;}#sk-container-id-1 input.sk-toggleable__control:checked~div.sk-toggleable__content {max-height: 200px;max-width: 100%;overflow: auto;}#sk-container-id-1 input.sk-toggleable__control:checked~label.sk-toggleable__label-arrow:before {content: \"▾\";}#sk-container-id-1 div.sk-estimator input.sk-toggleable__control:checked~label.sk-toggleable__label {background-color: #d4ebff;}#sk-container-id-1 div.sk-label input.sk-toggleable__control:checked~label.sk-toggleable__label {background-color: #d4ebff;}#sk-container-id-1 input.sk-hidden--visually {border: 0;clip: rect(1px 1px 1px 1px);clip: rect(1px, 1px, 1px, 1px);height: 1px;margin: -1px;overflow: hidden;padding: 0;position: absolute;width: 1px;}#sk-container-id-1 div.sk-estimator {font-family: monospace;background-color: #f0f8ff;border: 1px dotted black;border-radius: 0.25em;box-sizing: border-box;margin-bottom: 0.5em;}#sk-container-id-1 div.sk-estimator:hover {background-color: #d4ebff;}#sk-container-id-1 div.sk-parallel-item::after {content: \"\";width: 100%;border-bottom: 1px solid gray;flex-grow: 1;}#sk-container-id-1 div.sk-label:hover label.sk-toggleable__label {background-color: #d4ebff;}#sk-container-id-1 div.sk-serial::before {content: \"\";position: absolute;border-left: 1px solid gray;box-sizing: border-box;top: 0;bottom: 0;left: 50%;z-index: 0;}#sk-container-id-1 div.sk-serial {display: flex;flex-direction: column;align-items: center;background-color: white;padding-right: 0.2em;padding-left: 0.2em;position: relative;}#sk-container-id-1 div.sk-item {position: relative;z-index: 1;}#sk-container-id-1 div.sk-parallel {display: flex;align-items: stretch;justify-content: center;background-color: white;position: relative;}#sk-container-id-1 div.sk-item::before, #sk-container-id-1 div.sk-parallel-item::before {content: \"\";position: absolute;border-left: 1px solid gray;box-sizing: border-box;top: 0;bottom: 0;left: 50%;z-index: -1;}#sk-container-id-1 div.sk-parallel-item {display: flex;flex-direction: column;z-index: 1;position: relative;background-color: white;}#sk-container-id-1 div.sk-parallel-item:first-child::after {align-self: flex-end;width: 50%;}#sk-container-id-1 div.sk-parallel-item:last-child::after {align-self: flex-start;width: 50%;}#sk-container-id-1 div.sk-parallel-item:only-child::after {width: 0;}#sk-container-id-1 div.sk-dashed-wrapped {border: 1px dashed gray;margin: 0 0.4em 0.5em 0.4em;box-sizing: border-box;padding-bottom: 0.4em;background-color: white;}#sk-container-id-1 div.sk-label label {font-family: monospace;font-weight: bold;display: inline-block;line-height: 1.2em;}#sk-container-id-1 div.sk-label-container {text-align: center;}#sk-container-id-1 div.sk-container {/* jupyter's `normalize.less` sets `[hidden] { display: none; }` but bootstrap.min.css set `[hidden] { display: none !important; }` so we also need the `!important` here to be able to override the default hidden behavior on the sphinx rendered scikit-learn.org. See: https://github.com/scikit-learn/scikit-learn/issues/21755 */display: inline-block !important;position: relative;}#sk-container-id-1 div.sk-text-repr-fallback {display: none;}</style><div id=\"sk-container-id-1\" class=\"sk-top-container\"><div class=\"sk-text-repr-fallback\"><pre>Pipeline(steps=[(&#x27;vectorizer&#x27;, CountVectorizer()),\n",
       "                (&#x27;classifier&#x27;, LogisticRegression(multi_class=&#x27;multinomial&#x27;))])</pre><b>In a Jupyter environment, please rerun this cell to show the HTML representation or trust the notebook. <br />On GitHub, the HTML representation is unable to render, please try loading this page with nbviewer.org.</b></div><div class=\"sk-container\" hidden><div class=\"sk-item sk-dashed-wrapped\"><div class=\"sk-label-container\"><div class=\"sk-label sk-toggleable\"><input class=\"sk-toggleable__control sk-hidden--visually\" id=\"sk-estimator-id-1\" type=\"checkbox\" ><label for=\"sk-estimator-id-1\" class=\"sk-toggleable__label sk-toggleable__label-arrow\">Pipeline</label><div class=\"sk-toggleable__content\"><pre>Pipeline(steps=[(&#x27;vectorizer&#x27;, CountVectorizer()),\n",
       "                (&#x27;classifier&#x27;, LogisticRegression(multi_class=&#x27;multinomial&#x27;))])</pre></div></div></div><div class=\"sk-serial\"><div class=\"sk-item\"><div class=\"sk-estimator sk-toggleable\"><input class=\"sk-toggleable__control sk-hidden--visually\" id=\"sk-estimator-id-2\" type=\"checkbox\" ><label for=\"sk-estimator-id-2\" class=\"sk-toggleable__label sk-toggleable__label-arrow\">CountVectorizer</label><div class=\"sk-toggleable__content\"><pre>CountVectorizer()</pre></div></div></div><div class=\"sk-item\"><div class=\"sk-estimator sk-toggleable\"><input class=\"sk-toggleable__control sk-hidden--visually\" id=\"sk-estimator-id-3\" type=\"checkbox\" ><label for=\"sk-estimator-id-3\" class=\"sk-toggleable__label sk-toggleable__label-arrow\">LogisticRegression</label><div class=\"sk-toggleable__content\"><pre>LogisticRegression(multi_class=&#x27;multinomial&#x27;)</pre></div></div></div></div></div></div></div>"
      ],
      "text/plain": [
       "Pipeline(steps=[('vectorizer', CountVectorizer()),\n",
       "                ('classifier', LogisticRegression(multi_class='multinomial'))])"
      ]
     },
     "execution_count": 57,
     "metadata": {},
     "output_type": "execute_result"
    }
   ],
   "source": [
    "# Train classifier\n",
    "vectorizer = CountVectorizer()\n",
    "classifier = LogisticRegression(multi_class=\"multinomial\", solver=\"lbfgs\")\n",
    "router = Pipeline([(\"vectorizer\", vectorizer), (\"classifier\", classifier)])\n",
    "router.fit(texts, labels)"
   ]
  },
  {
   "cell_type": "markdown",
   "id": "6cc6a7b8-427b-433c-98e3-c82b6ffaf042",
   "metadata": {},
   "source": [
    "Now let's evaluate the performance on the test dataset:"
   ]
  },
  {
   "cell_type": "code",
   "execution_count": 58,
   "id": "87181fbe-b56f-485e-8089-34a2b1de3f49",
   "metadata": {
    "tags": []
   },
   "outputs": [],
   "source": [
    "with open(Path(ROOT_DIR, \"datasets\", \"routing-dataset-test.jsonl\")) as f:\n",
    "    records = [json.loads(line) for line in f]\n",
    "    texts = [record[\"question\"] for record in records]\n",
    "    y_test = [record[\"target\"] for record in records]\n",
    "    score_test = [record[\"score\"] for record in records]"
   ]
  },
  {
   "cell_type": "code",
   "execution_count": 59,
   "id": "4c2b3f1d-be35-4103-9aeb-ae8d562b3ee2",
   "metadata": {
    "tags": []
   },
   "outputs": [],
   "source": [
    "# Predictions\n",
    "y_pred = router.predict(texts)"
   ]
  },
  {
   "cell_type": "code",
   "execution_count": 60,
   "id": "beddd2f0-80a3-4c3d-a66c-7977fb1c43bc",
   "metadata": {
    "tags": []
   },
   "outputs": [
    {
     "name": "stdout",
     "output_type": "stream",
     "text": [
      "{\n",
      "    \"precision\": 0.917778649921507,\n",
      "    \"recall\": 0.9285714285714286,\n",
      "    \"f1\": 0.9215235703917096,\n",
      "    \"num_samples\": 574.0\n",
      "}\n"
     ]
    }
   ],
   "source": [
    "metrics = {}\n",
    "performance = precision_recall_fscore_support(y_test, y_pred, average=\"weighted\")\n",
    "metrics[\"precision\"] = performance[0]\n",
    "metrics[\"recall\"] = performance[1]\n",
    "metrics[\"f1\"] = performance[2]\n",
    "metrics[\"num_samples\"] = np.float64(len(y_test))\n",
    "print (json.dumps(metrics, indent=4))"
   ]
  },
  {
   "cell_type": "code",
   "execution_count": 61,
   "id": "a84cad0c-68ec-4384-930e-75e0a0fb2da5",
   "metadata": {
    "tags": []
   },
   "outputs": [
    {
     "name": "stdout",
     "output_type": "stream",
     "text": [
      "# total samples 574\n",
      "# samples for OSS models: 546 (95.1%)\n",
      "Performance on OSS samples: 3.8653846153846154\n",
      "Performance on dropped samples: 3.625\n"
     ]
    }
   ],
   "source": [
    "print (\"# total samples\", len(y_pred))\n",
    "print(f\"# samples for OSS models: {sum(y_pred)} ({sum(y_pred)*100/len(y_pred):.1f}%)\")\n",
    "print(\"Performance on OSS samples:\", np.mean([score_test[i] for i, p in enumerate(y_pred) if p]))\n",
    "print(\"Performance on dropped samples:\", np.mean([score_test[i] for i, p in enumerate(y_pred) if not p]))"
   ]
  },
  {
   "cell_type": "code",
   "execution_count": 62,
   "id": "530d3633-0f99-4bdd-a9be-6794ba84277a",
   "metadata": {
    "tags": []
   },
   "outputs": [
    {
     "data": {
      "text/plain": [
       "0"
      ]
     },
     "execution_count": 62,
     "metadata": {},
     "output_type": "execute_result"
    }
   ],
   "source": [
    "# Inference\n",
    "query = \"Give me the code for getting results from a training run\"\n",
    "router.predict([query])[0]"
   ]
  },
  {
   "cell_type": "code",
   "execution_count": 63,
   "id": "31e9315b-6ad1-4a59-b5c4-fc02a005ccdb",
   "metadata": {
    "tags": []
   },
   "outputs": [],
   "source": [
    "# Save\n",
    "router_fp = Path(ROOT_DIR, \"datasets\", \"router.pkl\")\n",
    "with open(router_fp, \"wb\") as file:\n",
    "    pickle.dump(router, file)"
   ]
  },
  {
   "cell_type": "code",
   "execution_count": 64,
   "id": "4fb6f073-0ae9-4ea9-9025-f2634d09d8d5",
   "metadata": {
    "tags": []
   },
   "outputs": [],
   "source": [
    "# Load\n",
    "with open(router_fp, \"rb\") as file:\n",
    "    router = pickle.load(file)"
   ]
  },
  {
   "cell_type": "markdown",
   "id": "a84b35b1-1342-47cb-a203-b8f24926cfab",
   "metadata": {},
   "source": [
    "## Serving"
   ]
  },
  {
   "cell_type": "markdown",
   "id": "014a7e88-a8c1-4114-ae2a-0651363595da",
   "metadata": {},
   "source": [
    "Now we're ready to start serving our Ray Assistant using our best configuration. We're going to use [Ray Serve](https://docs.ray.io/en/latest/serve/index.html) with [FastAPI](https://fastapi.tiangolo.com/) to develop and scale our service. First, we'll define some data structures like `Query` and `Answer` to represent the inputs and outputs to our service. We will also define a small function to load our index (assumes that the respective SQL dump file already exists). Finally, we can define our `QueryAgent` and use it to serve `POST` requests with the query. And we can serve our agent at any deployment scale we wish using the [@serve.deployment](https://docs.ray.io/en/latest/serve/api/doc/ray.serve.Deployment.html) decorator where we can specify the number of replicas, compute resources, etc.\n",
    "\n",
    "<span style=\"background: yellow; color: red; font-size: 1rem;\"><b>DIAGRAM:</b></span> high level diagram of serving + scaling our LLM agent."
   ]
  },
  {
   "cell_type": "code",
   "execution_count": 65,
   "id": "31cbea09-318f-49b7-864c-ba7b8072f5be",
   "metadata": {
    "tags": []
   },
   "outputs": [],
   "source": [
    "import requests\n",
    "from typing import List"
   ]
  },
  {
   "cell_type": "code",
   "execution_count": 66,
   "id": "123e53fa-8b11-4781-91fd-0947a242e0d5",
   "metadata": {
    "tags": []
   },
   "outputs": [],
   "source": [
    "from fastapi import FastAPI\n",
    "from pydantic import BaseModel\n",
    "from ray import serve\n",
    "from rag.index import load_index\n",
    "from starlette.responses import StreamingResponse"
   ]
  },
  {
   "cell_type": "code",
   "execution_count": 67,
   "id": "cab7b615-d03b-4fb2-b099-3a02dd7e8c2f",
   "metadata": {
    "tags": []
   },
   "outputs": [],
   "source": [
    "# Initialize application\n",
    "app = FastAPI()"
   ]
  },
  {
   "cell_type": "code",
   "execution_count": 68,
   "id": "e6d7ab2c-4946-4c6e-92da-08450ebc5a68",
   "metadata": {
    "tags": []
   },
   "outputs": [],
   "source": [
    "class Query(BaseModel):\n",
    "    query: str"
   ]
  },
  {
   "cell_type": "code",
   "execution_count": 69,
   "id": "00d51f9a-fff8-40d6-92d5-0d9984e311cc",
   "metadata": {
    "tags": []
   },
   "outputs": [],
   "source": [
    "class Answer(BaseModel):\n",
    "    question: str\n",
    "    sources: List[str]\n",
    "    answer: str\n",
    "    llm: str"
   ]
  },
  {
   "cell_type": "code",
   "execution_count": 70,
   "id": "67d0ffce-60a9-49a6-8b00-7dec241528b3",
   "metadata": {
    "tags": []
   },
   "outputs": [],
   "source": [
    "router_fp = Path(ROOT_DIR, \"datasets\", \"router.pkl\")\n",
    "with open(router_fp, \"rb\") as file:\n",
    "    router = pickle.load(file)"
   ]
  },
  {
   "cell_type": "code",
   "execution_count": 71,
   "id": "24aca110-8bff-4097-aaee-33a70043c73c",
   "metadata": {
    "tags": []
   },
   "outputs": [],
   "source": [
    "@serve.deployment(route_prefix=\"/\", num_replicas=1, ray_actor_options={\"num_cpus\": 28, \"num_gpus\": 2})\n",
    "@serve.ingress(app)\n",
    "class RayAssistantDeployment:\n",
    "    def __init__(self, chunk_size, chunk_overlap, num_chunks, embedding_model_name, llm):\n",
    "        # Set up\n",
    "        load_index(\n",
    "            embedding_model_name=embedding_model_name,\n",
    "            chunk_size=chunk_size,\n",
    "            chunk_overlap=chunk_overlap)\n",
    "\n",
    "        # Query agent\n",
    "        self.num_chunks = num_chunks\n",
    "        system_content = \"Answer the query using the context provided. Be succint.\"\n",
    "        self.oss_agent = QueryAgent(llm=llm, max_context_length=MAX_CONTEXT_LENGTHS[llm], system_content=system_content)\n",
    "        self.gpt_agent = QueryAgent(llm=\"gpt-4\", max_context_length=MAX_CONTEXT_LENGTHS[\"gpt-4\"], system_content=system_content)\n",
    "            \n",
    "        # Router\n",
    "        router_fp = Path(ROOT_DIR, \"datasets\", \"router.pkl\")\n",
    "        with open(router_fp, \"rb\") as file:\n",
    "            self.router = pickle.load(file)\n",
    "\n",
    "    @app.post(\"/query\")\n",
    "    def query(self, query: Query) -> Answer:\n",
    "        use_oss_agent = self.router.predict([query.query])[0]\n",
    "        agent = self.oss_agent if use_oss_agent else self.gpt_agent\n",
    "        result = agent(query=query.query, num_chunks=self.num_chunks, stream=False)\n",
    "        return Answer.parse_obj(result)\n",
    "\n",
    "    @application.post(\"/stream\")\n",
    "    def stream(self, query: Query) -> StreamingResponse:\n",
    "        use_oss_agent = self.router.predict([query.query])[0]\n",
    "        agent = self.oss_agent if use_oss_agent else self.gpt_agent\n",
    "        result = agent(query=query.query, num_chunks=self.num_chunks, stream=True)\n",
    "        return StreamingResponse(result[\"answer\"], media_type=\"text/plain\")"
   ]
  },
  {
   "cell_type": "code",
   "execution_count": 72,
   "id": "fb160b2c-104d-4052-a46f-bbd9912e020b",
   "metadata": {
    "tags": []
   },
   "outputs": [
    {
     "name": "stderr",
     "output_type": "stream",
     "text": [
      "\u001b[2m\u001b[36m(ServeController pid=883400)\u001b[0m INFO 2023-09-10 23:35:47,404 controller 883400 deployment_state.py:1308 - Deploying new version of deployment default_RayAssistantDeployment.\n",
      "\u001b[2m\u001b[36m(HTTPProxyActor pid=883470)\u001b[0m INFO:     Started server process [883470]\n",
      "\u001b[2m\u001b[36m(ServeController pid=883400)\u001b[0m INFO 2023-09-10 23:35:47,507 controller 883400 deployment_state.py:1571 - Adding 1 replica to deployment default_RayAssistantDeployment.\n",
      "2023-09-10 23:36:10,433\tINFO router.py:853 -- Using PowerOfTwoChoicesReplicaScheduler.\n",
      "2023-09-10 23:36:10,440\tINFO router.py:329 -- Got updated replicas for deployment default_RayAssistantDeployment: {'default_RayAssistantDeployment#bZVeMN'}.\n"
     ]
    },
    {
     "data": {
      "text/plain": [
       "RayServeSyncHandle(deployment='default_RayAssistantDeployment')"
      ]
     },
     "execution_count": 72,
     "metadata": {},
     "output_type": "execute_result"
    }
   ],
   "source": [
    "# Deploy the Ray Serve application.\n",
    "deployment = RayAssistantDeployment.bind(\n",
    "    chunk_size=CHUNK_SIZE,\n",
    "    chunk_overlap=CHUNK_OVERLAP,\n",
    "    num_chunks=NUM_CHUNKS,\n",
    "    embedding_model_name=EMBEDDING_MODEL_NAME,\n",
    "    llm=LLM)\n",
    "serve.run(deployment)"
   ]
  },
  {
   "cell_type": "code",
   "execution_count": 73,
   "id": "0f37bd52-ee23-4451-950b-a4badc1c2e52",
   "metadata": {
    "tags": []
   },
   "outputs": [
    {
     "name": "stdout",
     "output_type": "stream",
     "text": [
      "\u001b[2m\u001b[36m(ServeReplica:default_RayAssistantDeployment pid=883545)\u001b[0m The default batch size\n",
      "\u001b[2m\u001b[36m(ServeReplica:default_RayAssistantDeployment pid=883545)\u001b[0m  for\n",
      "\u001b[2m\u001b[36m(ServeReplica:default_RayAssistantDeployment pid=883545)\u001b[0m  map_batch\n",
      "\u001b[2m\u001b[36m(ServeReplica:default_RayAssistantDeployment pid=883545)\u001b[0m es\n",
      "\u001b[2m\u001b[36m(ServeReplica:default_RayAssistantDeployment pid=883545)\u001b[0m  is 4\n",
      "\u001b[2m\u001b[36m(ServeReplica:default_RayAssistantDeployment pid=883545)\u001b[0m 0\n",
      "\u001b[2m\u001b[36m(ServeReplica:default_RayAssistantDeployment pid=883545)\u001b[0m 9\n",
      "\u001b[2m\u001b[36m(ServeReplica:default_RayAssistantDeployment pid=883545)\u001b[0m 6\n",
      "\u001b[2m\u001b[36m(ServeReplica:default_RayAssistantDeployment pid=883545)\u001b[0m .\n",
      "{'question': 'What is the default batch size for map_batches?', 'sources': ['https://docs.ray.io/en/master/data/api/doc/ray.data.Dataset.map_batches.html#ray-data-dataset-map-batches', 'https://docs.ray.io/en/master/data/transforming-data.html#configuring-batch-size', 'https://docs.ray.io/en/master/data/data-internals.html#execution-memory', 'https://docs.ray.io/en/master/serve/advanced-guides/dyn-req-batch.html#tips-for-fine-tuning-batching-parameters', 'https://docs.ray.io/en/master/data/examples/pytorch_resnet_batch_prediction.html#model-inference', 'https://docs.ray.io/en/master/data/batch_inference.html#configuring-batch-size', 'https://docs.ray.io/en/master/data/examples/huggingface_vit_batch_prediction.html#step-3-scaling-up-to-the-full-dataset-with-ray-data'], 'answer': 'The default batch size for map_batches is 4096.', 'llm': 'meta-llama/Llama-2-70b-chat-hf'}\n"
     ]
    }
   ],
   "source": [
    "# Inference\n",
    "data = {\"query\": \"What is the default batch size for map_batches?\"}\n",
    "response = requests.post(\"http://127.0.0.1:8000/query\", json=data)\n",
    "print(response.json())"
   ]
  },
  {
   "cell_type": "code",
   "execution_count": 74,
   "id": "74566075-7ad8-4269-8be5-5dc2602ef06b",
   "metadata": {
    "tags": []
   },
   "outputs": [
    {
     "name": "stderr",
     "output_type": "stream",
     "text": [
      "\u001b[2m\u001b[36m(ServeController pid=883400)\u001b[0m INFO 2023-09-10 23:36:14,879 controller 883400 deployment_state.py:1595 - Removing 1 replica from deployment 'default_RayAssistantDeployment'.\n",
      "\u001b[2m\u001b[36m(ServeReplica:default_RayAssistantDeployment pid=883545)\u001b[0m INFO 2023-09-10 23:36:14,845 default_RayAssistantDeployment default_RayAssistantDeployment#bZVeMN AAQsmDrBNj /query default replica.py:723 - __CALL__ OK 4382.8ms\n",
      "2023-09-10 23:36:14,884\tINFO router.py:329 -- Got updated replicas for deployment default_RayAssistantDeployment: set().\n"
     ]
    }
   ],
   "source": [
    "# Shutdown\n",
    "serve.shutdown()"
   ]
  },
  {
   "cell_type": "markdown",
   "id": "14f2b5b9-8fe0-44a3-8910-8ce21056dc57",
   "metadata": {},
   "source": [
    "## Next steps"
   ]
  },
  {
   "cell_type": "markdown",
   "id": "150189f9-e9c0-4af5-b426-74c847ab22b2",
   "metadata": {},
   "source": [
    "Coming in Part II:\n",
    "\n",
    "- add additional context with retrieved chunks\n",
    "- keyword search with semantic (embedding) search\n",
    "- reranking with LLM on retrieved chunks (from embeddings)\n",
    "- fine-tune embedding model\n",
    "- fine-tune base LLM (gpt-3.5 and OSS)\n",
    "- longer context lengths (RoPE)\n",
    "- structuring and updating the index in the vector DB\n",
    "- offline/online indexing of new data"
   ]
  }
 ],
 "metadata": {
  "kernelspec": {
   "display_name": "Python 3 (ipykernel)",
   "language": "python",
   "name": "python3"
  },
  "language_info": {
   "codemirror_mode": {
    "name": "ipython",
    "version": 3
   },
   "file_extension": ".py",
   "mimetype": "text/x-python",
   "name": "python",
   "nbconvert_exporter": "python",
   "pygments_lexer": "ipython3",
   "version": "3.8.13"
  }
 },
 "nbformat": 4,
 "nbformat_minor": 5
}
